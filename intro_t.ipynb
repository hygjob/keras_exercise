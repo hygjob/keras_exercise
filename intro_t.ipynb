{
  "nbformat": 4,
  "nbformat_minor": 0,
  "metadata": {
    "colab": {
      "name": "intro_t.ipynb",
      "version": "0.3.2",
      "provenance": [],
      "collapsed_sections": [],
      "include_colab_link": true
    },
    "kernelspec": {
      "name": "python3",
      "display_name": "Python 3"
    },
    "accelerator": "GPU"
  },
  "cells": [
    {
      "cell_type": "markdown",
      "metadata": {
        "id": "view-in-github",
        "colab_type": "text"
      },
      "source": [
        "<a href=\"https://colab.research.google.com/github/hygjob/keras_exercise/blob/master/intro_t.ipynb\" target=\"_parent\"><img src=\"https://colab.research.google.com/assets/colab-badge.svg\" alt=\"Open In Colab\"/></a>"
      ]
    },
    {
      "cell_type": "code",
      "metadata": {
        "id": "hp0XJhFVMLPL",
        "colab_type": "code",
        "colab": {}
      },
      "source": [
        "# 케라스 예제\n",
        "\n",
        "# 케라스 홈페이지에 있는 것을 실행함\n"
      ],
      "execution_count": 0,
      "outputs": []
    },
    {
      "cell_type": "code",
      "metadata": {
        "id": "ruTgQCOWInqF",
        "colab_type": "code",
        "colab": {
          "base_uri": "https://localhost:8080/",
          "height": 1000
        },
        "outputId": "93f15abb-759d-42e1-a431-fa111cba11bf"
      },
      "source": [
        "# Multilayer Perceptron (MLP) for multi-class softmax classification:\n",
        "# https://keras.io/getting-started/sequential-model-guide/\n",
        "  \n",
        "\n",
        "import keras\n",
        "from keras.models import Sequential\n",
        "from keras.layers import Dense, Dropout, Activation\n",
        "from keras.optimizers import SGD\n",
        "\n",
        "# Generate dummy data\n",
        "import numpy as np\n",
        "x_train = np.random.random((1000, 20))\n",
        "y_train = keras.utils.to_categorical(np.random.randint(10, size=(1000, 1)), num_classes=10)\n",
        "x_test = np.random.random((100, 20))\n",
        "y_test = keras.utils.to_categorical(np.random.randint(10, size=(100, 1)), num_classes=10)\n",
        "\n",
        "model = Sequential()\n",
        "# Dense(64) is a fully-connected layer with 64 hidden units.\n",
        "# in the first layer, you must specify the expected input data shape:\n",
        "# here, 20-dimensional vectors.\n",
        "model.add(Dense(64, activation='relu', input_dim=20))\n",
        "model.add(Dropout(0.5))\n",
        "model.add(Dense(64, activation='relu'))\n",
        "model.add(Dropout(0.5))\n",
        "model.add(Dense(10, activation='softmax'))\n",
        "\n",
        "sgd = SGD(lr=0.01, decay=1e-6, momentum=0.9, nesterov=True)\n",
        "model.compile(loss='categorical_crossentropy',\n",
        "              optimizer=sgd,\n",
        "              metrics=['accuracy'])\n",
        "\n",
        "model.fit(x_train, y_train,\n",
        "          epochs=20,\n",
        "          batch_size=128)\n",
        "score = model.evaluate(x_test, y_test, batch_size=128)"
      ],
      "execution_count": 1,
      "outputs": [
        {
          "output_type": "stream",
          "text": [
            "Using TensorFlow backend.\n",
            "WARNING: Logging before flag parsing goes to stderr.\n",
            "W0830 01:29:50.046406 140312440575872 deprecation_wrapper.py:119] From /usr/local/lib/python3.6/dist-packages/keras/backend/tensorflow_backend.py:66: The name tf.get_default_graph is deprecated. Please use tf.compat.v1.get_default_graph instead.\n",
            "\n",
            "W0830 01:29:50.091982 140312440575872 deprecation_wrapper.py:119] From /usr/local/lib/python3.6/dist-packages/keras/backend/tensorflow_backend.py:541: The name tf.placeholder is deprecated. Please use tf.compat.v1.placeholder instead.\n",
            "\n",
            "W0830 01:29:50.101407 140312440575872 deprecation_wrapper.py:119] From /usr/local/lib/python3.6/dist-packages/keras/backend/tensorflow_backend.py:4432: The name tf.random_uniform is deprecated. Please use tf.random.uniform instead.\n",
            "\n",
            "W0830 01:29:50.120232 140312440575872 deprecation_wrapper.py:119] From /usr/local/lib/python3.6/dist-packages/keras/backend/tensorflow_backend.py:148: The name tf.placeholder_with_default is deprecated. Please use tf.compat.v1.placeholder_with_default instead.\n",
            "\n",
            "W0830 01:29:50.131083 140312440575872 deprecation.py:506] From /usr/local/lib/python3.6/dist-packages/keras/backend/tensorflow_backend.py:3733: calling dropout (from tensorflow.python.ops.nn_ops) with keep_prob is deprecated and will be removed in a future version.\n",
            "Instructions for updating:\n",
            "Please use `rate` instead of `keep_prob`. Rate should be set to `rate = 1 - keep_prob`.\n",
            "W0830 01:29:50.209385 140312440575872 deprecation_wrapper.py:119] From /usr/local/lib/python3.6/dist-packages/keras/optimizers.py:793: The name tf.train.Optimizer is deprecated. Please use tf.compat.v1.train.Optimizer instead.\n",
            "\n",
            "W0830 01:29:50.224631 140312440575872 deprecation_wrapper.py:119] From /usr/local/lib/python3.6/dist-packages/keras/backend/tensorflow_backend.py:3576: The name tf.log is deprecated. Please use tf.math.log instead.\n",
            "\n",
            "W0830 01:29:50.363386 140312440575872 deprecation.py:323] From /usr/local/lib/python3.6/dist-packages/tensorflow/python/ops/math_grad.py:1250: add_dispatch_support.<locals>.wrapper (from tensorflow.python.ops.array_ops) is deprecated and will be removed in a future version.\n",
            "Instructions for updating:\n",
            "Use tf.where in 2.0, which has the same broadcast rule as np.where\n"
          ],
          "name": "stderr"
        },
        {
          "output_type": "stream",
          "text": [
            "Epoch 1/20\n",
            "1000/1000 [==============================] - 5s 5ms/step - loss: 2.4289 - acc: 0.0990\n",
            "Epoch 2/20\n",
            "1000/1000 [==============================] - 0s 32us/step - loss: 2.3615 - acc: 0.1210\n",
            "Epoch 3/20\n",
            "1000/1000 [==============================] - 0s 34us/step - loss: 2.3392 - acc: 0.1050\n",
            "Epoch 4/20\n",
            "1000/1000 [==============================] - 0s 33us/step - loss: 2.3327 - acc: 0.1040\n",
            "Epoch 5/20\n",
            "1000/1000 [==============================] - 0s 35us/step - loss: 2.3374 - acc: 0.0900\n",
            "Epoch 6/20\n",
            "1000/1000 [==============================] - 0s 37us/step - loss: 2.3234 - acc: 0.1090\n",
            "Epoch 7/20\n",
            "1000/1000 [==============================] - 0s 40us/step - loss: 2.3145 - acc: 0.1070\n",
            "Epoch 8/20\n",
            "1000/1000 [==============================] - 0s 32us/step - loss: 2.3007 - acc: 0.1210\n",
            "Epoch 9/20\n",
            "1000/1000 [==============================] - 0s 35us/step - loss: 2.3042 - acc: 0.1190\n",
            "Epoch 10/20\n",
            "1000/1000 [==============================] - 0s 35us/step - loss: 2.3177 - acc: 0.0980\n",
            "Epoch 11/20\n",
            "1000/1000 [==============================] - 0s 36us/step - loss: 2.3062 - acc: 0.1180\n",
            "Epoch 12/20\n",
            "1000/1000 [==============================] - 0s 34us/step - loss: 2.3035 - acc: 0.1160\n",
            "Epoch 13/20\n",
            "1000/1000 [==============================] - 0s 33us/step - loss: 2.2948 - acc: 0.1100\n",
            "Epoch 14/20\n",
            "1000/1000 [==============================] - 0s 35us/step - loss: 2.2981 - acc: 0.1180\n",
            "Epoch 15/20\n",
            "1000/1000 [==============================] - 0s 36us/step - loss: 2.3048 - acc: 0.1070\n",
            "Epoch 16/20\n",
            "1000/1000 [==============================] - 0s 35us/step - loss: 2.2999 - acc: 0.1230\n",
            "Epoch 17/20\n",
            "1000/1000 [==============================] - 0s 35us/step - loss: 2.2893 - acc: 0.1290\n",
            "Epoch 18/20\n",
            "1000/1000 [==============================] - 0s 38us/step - loss: 2.2994 - acc: 0.0950\n",
            "Epoch 19/20\n",
            "1000/1000 [==============================] - 0s 33us/step - loss: 2.2996 - acc: 0.1080\n",
            "Epoch 20/20\n",
            "1000/1000 [==============================] - 0s 33us/step - loss: 2.2959 - acc: 0.1030\n",
            "100/100 [==============================] - 0s 406us/step\n"
          ],
          "name": "stdout"
        }
      ]
    },
    {
      "cell_type": "code",
      "metadata": {
        "id": "PJIr2xKXJG0P",
        "colab_type": "code",
        "colab": {
          "base_uri": "https://localhost:8080/",
          "height": 738
        },
        "outputId": "9befc85c-bf38-4f5b-b43a-141568b13d5e"
      },
      "source": [
        "# MLP for binary classification:\n",
        "\n",
        "import numpy as np\n",
        "from keras.models import Sequential\n",
        "from keras.layers import Dense, Dropout\n",
        "\n",
        "# Generate dummy data\n",
        "x_train = np.random.random((1000, 20))\n",
        "y_train = np.random.randint(2, size=(1000, 1))\n",
        "x_test = np.random.random((100, 20))\n",
        "y_test = np.random.randint(2, size=(100, 1))\n",
        "\n",
        "model = Sequential()\n",
        "model.add(Dense(64, input_dim=20, activation='relu'))\n",
        "model.add(Dropout(0.5))\n",
        "model.add(Dense(64, activation='relu'))\n",
        "model.add(Dropout(0.5))\n",
        "model.add(Dense(1, activation='sigmoid'))\n",
        "\n",
        "model.compile(loss='binary_crossentropy',\n",
        "              optimizer='rmsprop',\n",
        "              metrics=['accuracy'])\n",
        "\n",
        "model.fit(x_train, y_train,\n",
        "          epochs=20,\n",
        "          batch_size=128)\n",
        "score = model.evaluate(x_test, y_test, batch_size=128)"
      ],
      "execution_count": 2,
      "outputs": [
        {
          "output_type": "stream",
          "text": [
            "Epoch 1/20\n",
            "1000/1000 [==============================] - 0s 308us/step - loss: 0.7139 - acc: 0.5070\n",
            "Epoch 2/20\n",
            "1000/1000 [==============================] - 0s 42us/step - loss: 0.7057 - acc: 0.4930\n",
            "Epoch 3/20\n",
            "1000/1000 [==============================] - 0s 39us/step - loss: 0.7108 - acc: 0.4810\n",
            "Epoch 4/20\n",
            "1000/1000 [==============================] - 0s 46us/step - loss: 0.7011 - acc: 0.4960\n",
            "Epoch 5/20\n",
            "1000/1000 [==============================] - 0s 53us/step - loss: 0.6974 - acc: 0.5040\n",
            "Epoch 6/20\n",
            "1000/1000 [==============================] - 0s 51us/step - loss: 0.7004 - acc: 0.5080\n",
            "Epoch 7/20\n",
            "1000/1000 [==============================] - 0s 45us/step - loss: 0.7013 - acc: 0.4870\n",
            "Epoch 8/20\n",
            "1000/1000 [==============================] - 0s 45us/step - loss: 0.6941 - acc: 0.5020\n",
            "Epoch 9/20\n",
            "1000/1000 [==============================] - 0s 43us/step - loss: 0.6955 - acc: 0.5010\n",
            "Epoch 10/20\n",
            "1000/1000 [==============================] - 0s 63us/step - loss: 0.6956 - acc: 0.4920\n",
            "Epoch 11/20\n",
            "1000/1000 [==============================] - 0s 54us/step - loss: 0.6946 - acc: 0.5060\n",
            "Epoch 12/20\n",
            "1000/1000 [==============================] - 0s 51us/step - loss: 0.6898 - acc: 0.5180\n",
            "Epoch 13/20\n",
            "1000/1000 [==============================] - 0s 46us/step - loss: 0.6959 - acc: 0.5140\n",
            "Epoch 14/20\n",
            "1000/1000 [==============================] - 0s 54us/step - loss: 0.6927 - acc: 0.5160\n",
            "Epoch 15/20\n",
            "1000/1000 [==============================] - 0s 46us/step - loss: 0.6957 - acc: 0.4900\n",
            "Epoch 16/20\n",
            "1000/1000 [==============================] - 0s 51us/step - loss: 0.6891 - acc: 0.5460\n",
            "Epoch 17/20\n",
            "1000/1000 [==============================] - 0s 49us/step - loss: 0.6921 - acc: 0.5300\n",
            "Epoch 18/20\n",
            "1000/1000 [==============================] - 0s 50us/step - loss: 0.6911 - acc: 0.5070\n",
            "Epoch 19/20\n",
            "1000/1000 [==============================] - 0s 50us/step - loss: 0.6956 - acc: 0.5120\n",
            "Epoch 20/20\n",
            "1000/1000 [==============================] - 0s 49us/step - loss: 0.6905 - acc: 0.5260\n",
            "100/100 [==============================] - 0s 681us/step\n"
          ],
          "name": "stdout"
        }
      ]
    },
    {
      "cell_type": "code",
      "metadata": {
        "id": "sjqwbuxFLAC4",
        "colab_type": "code",
        "colab": {
          "base_uri": "https://localhost:8080/",
          "height": 442
        },
        "outputId": "4da30a08-b5d7-4588-f130-dc4b6051f65a"
      },
      "source": [
        "# VGG-like convnet:\n",
        "\n",
        "import numpy as np\n",
        "import keras\n",
        "from keras.models import Sequential\n",
        "from keras.layers import Dense, Dropout, Flatten\n",
        "from keras.layers import Conv2D, MaxPooling2D\n",
        "from keras.optimizers import SGD\n",
        "\n",
        "# Generate dummy data\n",
        "x_train = np.random.random((100, 100, 100, 3))\n",
        "y_train = keras.utils.to_categorical(np.random.randint(10, size=(100, 1)), num_classes=10)\n",
        "x_test = np.random.random((20, 100, 100, 3))\n",
        "y_test = keras.utils.to_categorical(np.random.randint(10, size=(20, 1)), num_classes=10)\n",
        "\n",
        "model = Sequential()\n",
        "# input: 100x100 images with 3 channels -> (100, 100, 3) tensors.\n",
        "# this applies 32 convolution filters of size 3x3 each.\n",
        "model.add(Conv2D(32, (3, 3), activation='relu', input_shape=(100, 100, 3)))\n",
        "model.add(Conv2D(32, (3, 3), activation='relu'))\n",
        "model.add(MaxPooling2D(pool_size=(2, 2)))\n",
        "model.add(Dropout(0.25))\n",
        "\n",
        "model.add(Conv2D(64, (3, 3), activation='relu'))\n",
        "model.add(Conv2D(64, (3, 3), activation='relu'))\n",
        "model.add(MaxPooling2D(pool_size=(2, 2)))\n",
        "model.add(Dropout(0.25))\n",
        "\n",
        "model.add(Flatten())\n",
        "model.add(Dense(256, activation='relu'))\n",
        "model.add(Dropout(0.5))\n",
        "model.add(Dense(10, activation='softmax'))\n",
        "\n",
        "sgd = SGD(lr=0.01, decay=1e-6, momentum=0.9, nesterov=True)\n",
        "model.compile(loss='categorical_crossentropy', optimizer=sgd)\n",
        "\n",
        "model.fit(x_train, y_train, batch_size=32, epochs=10)\n",
        "score = model.evaluate(x_test, y_test, batch_size=32)"
      ],
      "execution_count": 3,
      "outputs": [
        {
          "output_type": "stream",
          "text": [
            "W0830 01:38:17.993532 140312440575872 deprecation_wrapper.py:119] From /usr/local/lib/python3.6/dist-packages/keras/backend/tensorflow_backend.py:4267: The name tf.nn.max_pool is deprecated. Please use tf.nn.max_pool2d instead.\n",
            "\n"
          ],
          "name": "stderr"
        },
        {
          "output_type": "stream",
          "text": [
            "Epoch 1/10\n",
            "100/100 [==============================] - 3s 35ms/step - loss: 2.3488\n",
            "Epoch 2/10\n",
            "100/100 [==============================] - 0s 2ms/step - loss: 2.3464\n",
            "Epoch 3/10\n",
            "100/100 [==============================] - 0s 2ms/step - loss: 2.2908\n",
            "Epoch 4/10\n",
            "100/100 [==============================] - 0s 2ms/step - loss: 2.2651\n",
            "Epoch 5/10\n",
            "100/100 [==============================] - 0s 2ms/step - loss: 2.3274\n",
            "Epoch 6/10\n",
            "100/100 [==============================] - 0s 2ms/step - loss: 2.2731\n",
            "Epoch 7/10\n",
            "100/100 [==============================] - 0s 2ms/step - loss: 2.2745\n",
            "Epoch 8/10\n",
            "100/100 [==============================] - 0s 2ms/step - loss: 2.2695\n",
            "Epoch 9/10\n",
            "100/100 [==============================] - 0s 2ms/step - loss: 2.2571\n",
            "Epoch 10/10\n",
            "100/100 [==============================] - 0s 2ms/step - loss: 2.2995\n",
            "20/20 [==============================] - 0s 9ms/step\n"
          ],
          "name": "stdout"
        }
      ]
    },
    {
      "cell_type": "code",
      "metadata": {
        "id": "Gt1Q1yApLFZ9",
        "colab_type": "code",
        "colab": {
          "base_uri": "https://localhost:8080/",
          "height": 386
        },
        "outputId": "b86dba34-649d-4a8b-d1ea-39eec23ce9bf"
      },
      "source": [
        "# Sequence classification with LSTM:\n",
        "\n",
        "from keras.models import Sequential\n",
        "from keras.layers import Dense, Dropout\n",
        "from keras.layers import Embedding\n",
        "from keras.layers import LSTM\n",
        "\n",
        "max_features = 1024\n",
        "\n",
        "# Generate dummy data\n",
        "x_train = np.random.random((1000, 20))\n",
        "y_train = np.random.randint(2, size=(1000, 1))\n",
        "x_test = np.random.random((100, 20))\n",
        "y_test = np.random.randint(2, size=(100, 1))\n",
        "\n",
        "model = Sequential()\n",
        "model.add(Embedding(max_features, output_dim=256))\n",
        "model.add(LSTM(128))\n",
        "model.add(Dropout(0.5))\n",
        "model.add(Dense(1, activation='sigmoid'))\n",
        "\n",
        "model.compile(loss='binary_crossentropy',\n",
        "              optimizer='rmsprop',\n",
        "              metrics=['accuracy'])\n",
        "\n",
        "model.fit(x_train, y_train, batch_size=16, epochs=10)\n",
        "score = model.evaluate(x_test, y_test, batch_size=16)"
      ],
      "execution_count": 5,
      "outputs": [
        {
          "output_type": "stream",
          "text": [
            "Epoch 1/10\n",
            "1000/1000 [==============================] - 3s 3ms/step - loss: 0.6977 - acc: 0.5060\n",
            "Epoch 2/10\n",
            "1000/1000 [==============================] - 3s 3ms/step - loss: 0.6958 - acc: 0.5150\n",
            "Epoch 3/10\n",
            "1000/1000 [==============================] - 2s 2ms/step - loss: 0.6949 - acc: 0.5030\n",
            "Epoch 4/10\n",
            "1000/1000 [==============================] - 2s 2ms/step - loss: 0.6960 - acc: 0.5100\n",
            "Epoch 5/10\n",
            "1000/1000 [==============================] - 2s 2ms/step - loss: 0.6964 - acc: 0.5010\n",
            "Epoch 6/10\n",
            "1000/1000 [==============================] - 3s 3ms/step - loss: 0.6945 - acc: 0.5010\n",
            "Epoch 7/10\n",
            "1000/1000 [==============================] - 2s 2ms/step - loss: 0.6941 - acc: 0.5280\n",
            "Epoch 8/10\n",
            "1000/1000 [==============================] - 2s 2ms/step - loss: 0.6948 - acc: 0.5070\n",
            "Epoch 9/10\n",
            "1000/1000 [==============================] - 2s 2ms/step - loss: 0.6950 - acc: 0.4970\n",
            "Epoch 10/10\n",
            "1000/1000 [==============================] - 2s 2ms/step - loss: 0.6941 - acc: 0.5090\n",
            "100/100 [==============================] - 0s 3ms/step\n"
          ],
          "name": "stdout"
        }
      ]
    },
    {
      "cell_type": "code",
      "metadata": {
        "id": "05F8_IqlLIr0",
        "colab_type": "code",
        "colab": {}
      },
      "source": [
        "# Stacked LSTM for sequence classification"
      ],
      "execution_count": 0,
      "outputs": []
    },
    {
      "cell_type": "code",
      "metadata": {
        "id": "jCgnUqQHLwEA",
        "colab_type": "code",
        "colab": {}
      },
      "source": [
        ""
      ],
      "execution_count": 0,
      "outputs": []
    },
    {
      "cell_type": "markdown",
      "metadata": {
        "id": "THbjMvGaLjJM",
        "colab_type": "text"
      },
      "source": [
        "![3 LSTM](https://keras.io/img/regular_stacked_lstm.png)"
      ]
    },
    {
      "cell_type": "code",
      "metadata": {
        "id": "laTN76L_LyQv",
        "colab_type": "code",
        "colab": {
          "base_uri": "https://localhost:8080/",
          "height": 228
        },
        "outputId": "ac2c71d3-8572-4d37-da42-a6e7b64e9001"
      },
      "source": [
        "from keras.models import Sequential\n",
        "from keras.layers import LSTM, Dense\n",
        "import numpy as np\n",
        "\n",
        "data_dim = 16\n",
        "timesteps = 8\n",
        "num_classes = 10\n",
        "\n",
        "# expected input data shape: (batch_size, timesteps, data_dim)\n",
        "model = Sequential()\n",
        "model.add(LSTM(32, return_sequences=True,\n",
        "               input_shape=(timesteps, data_dim)))  # returns a sequence of vectors of dimension 32\n",
        "model.add(LSTM(32, return_sequences=True))  # returns a sequence of vectors of dimension 32\n",
        "model.add(LSTM(32))  # return a single vector of dimension 32\n",
        "model.add(Dense(10, activation='softmax'))\n",
        "\n",
        "model.compile(loss='categorical_crossentropy',\n",
        "              optimizer='rmsprop',\n",
        "              metrics=['accuracy'])\n",
        "\n",
        "# Generate dummy training data\n",
        "x_train = np.random.random((1000, timesteps, data_dim))\n",
        "y_train = np.random.random((1000, num_classes))\n",
        "\n",
        "# Generate dummy validation data\n",
        "x_val = np.random.random((100, timesteps, data_dim))\n",
        "y_val = np.random.random((100, num_classes))\n",
        "\n",
        "model.fit(x_train, y_train,\n",
        "          batch_size=64, epochs=5,\n",
        "          validation_data=(x_val, y_val))"
      ],
      "execution_count": 6,
      "outputs": [
        {
          "output_type": "stream",
          "text": [
            "Train on 1000 samples, validate on 100 samples\n",
            "Epoch 1/5\n",
            "1000/1000 [==============================] - 3s 3ms/step - loss: 11.4772 - acc: 0.0910 - val_loss: 11.7610 - val_acc: 0.0800\n",
            "Epoch 2/5\n",
            "1000/1000 [==============================] - 1s 948us/step - loss: 11.4753 - acc: 0.1020 - val_loss: 11.7615 - val_acc: 0.1100\n",
            "Epoch 3/5\n",
            "1000/1000 [==============================] - 1s 951us/step - loss: 11.4750 - acc: 0.0970 - val_loss: 11.7589 - val_acc: 0.0900\n",
            "Epoch 4/5\n",
            "1000/1000 [==============================] - 1s 963us/step - loss: 11.4751 - acc: 0.0950 - val_loss: 11.7626 - val_acc: 0.0700\n",
            "Epoch 5/5\n",
            "1000/1000 [==============================] - 1s 933us/step - loss: 11.4747 - acc: 0.1120 - val_loss: 11.7610 - val_acc: 0.0400\n"
          ],
          "name": "stdout"
        },
        {
          "output_type": "execute_result",
          "data": {
            "text/plain": [
              "<keras.callbacks.History at 0x7f9c5e9cbeb8>"
            ]
          },
          "metadata": {
            "tags": []
          },
          "execution_count": 6
        }
      ]
    },
    {
      "cell_type": "code",
      "metadata": {
        "id": "sWNmYZ7DL04O",
        "colab_type": "code",
        "colab": {
          "base_uri": "https://localhost:8080/",
          "height": 228
        },
        "outputId": "79846bf7-ab0d-41be-d3b9-34196763713e"
      },
      "source": [
        "# Same stacked LSTM model, rendered \"stateful\"\n",
        "\n",
        "from keras.models import Sequential\n",
        "from keras.layers import LSTM, Dense\n",
        "import numpy as np\n",
        "\n",
        "data_dim = 16\n",
        "timesteps = 8\n",
        "num_classes = 10\n",
        "batch_size = 32\n",
        "\n",
        "# Expected input batch shape: (batch_size, timesteps, data_dim)\n",
        "# Note that we have to provide the full batch_input_shape since the network is stateful.\n",
        "# the sample of index i in batch k is the follow-up for the sample i in batch k-1.\n",
        "model = Sequential()\n",
        "model.add(LSTM(32, return_sequences=True, stateful=True,\n",
        "               batch_input_shape=(batch_size, timesteps, data_dim)))\n",
        "model.add(LSTM(32, return_sequences=True, stateful=True))\n",
        "model.add(LSTM(32, stateful=True))\n",
        "model.add(Dense(10, activation='softmax'))\n",
        "\n",
        "model.compile(loss='categorical_crossentropy',\n",
        "              optimizer='rmsprop',\n",
        "              metrics=['accuracy'])\n",
        "\n",
        "# Generate dummy training data\n",
        "x_train = np.random.random((batch_size * 10, timesteps, data_dim))\n",
        "y_train = np.random.random((batch_size * 10, num_classes))\n",
        "\n",
        "# Generate dummy validation data\n",
        "x_val = np.random.random((batch_size * 3, timesteps, data_dim))\n",
        "y_val = np.random.random((batch_size * 3, num_classes))\n",
        "\n",
        "model.fit(x_train, y_train,\n",
        "          batch_size=batch_size, epochs=5, shuffle=False,\n",
        "          validation_data=(x_val, y_val))\n"
      ],
      "execution_count": 7,
      "outputs": [
        {
          "output_type": "stream",
          "text": [
            "Train on 320 samples, validate on 96 samples\n",
            "Epoch 1/5\n",
            "320/320 [==============================] - 3s 9ms/step - loss: 11.4854 - acc: 0.1125 - val_loss: 11.6074 - val_acc: 0.1562\n",
            "Epoch 2/5\n",
            "320/320 [==============================] - 1s 2ms/step - loss: 11.4801 - acc: 0.1125 - val_loss: 11.6072 - val_acc: 0.1354\n",
            "Epoch 3/5\n",
            "320/320 [==============================] - 1s 2ms/step - loss: 11.4791 - acc: 0.1125 - val_loss: 11.6072 - val_acc: 0.1458\n",
            "Epoch 4/5\n",
            "320/320 [==============================] - 1s 2ms/step - loss: 11.4782 - acc: 0.1125 - val_loss: 11.6074 - val_acc: 0.1458\n",
            "Epoch 5/5\n",
            "320/320 [==============================] - 1s 2ms/step - loss: 11.4773 - acc: 0.1094 - val_loss: 11.6077 - val_acc: 0.1354\n"
          ],
          "name": "stdout"
        },
        {
          "output_type": "execute_result",
          "data": {
            "text/plain": [
              "<keras.callbacks.History at 0x7f9c5cf08b00>"
            ]
          },
          "metadata": {
            "tags": []
          },
          "execution_count": 7
        }
      ]
    },
    {
      "cell_type": "code",
      "metadata": {
        "id": "6xmU1OgzL5OO",
        "colab_type": "code",
        "colab": {}
      },
      "source": [
        ""
      ],
      "execution_count": 0,
      "outputs": []
    }
  ]
}