{
  "nbformat": 4,
  "nbformat_minor": 0,
  "metadata": {
    "colab": {
      "name": "intro_t.ipynb",
      "version": "0.3.2",
      "provenance": [],
      "collapsed_sections": [],
      "include_colab_link": true
    },
    "kernelspec": {
      "name": "python3",
      "display_name": "Python 3"
    },
    "accelerator": "GPU"
  },
  "cells": [
    {
      "cell_type": "markdown",
      "metadata": {
        "id": "view-in-github",
        "colab_type": "text"
      },
      "source": [
        "<a href=\"https://colab.research.google.com/github/hygjob/keras_exercise/blob/master/intro_t.ipynb\" target=\"_parent\"><img src=\"https://colab.research.google.com/assets/colab-badge.svg\" alt=\"Open In Colab\"/></a>"
      ]
    },
    {
      "cell_type": "code",
      "metadata": {
        "id": "ruTgQCOWInqF",
        "colab_type": "code",
        "colab": {
          "base_uri": "https://localhost:8080/",
          "height": 1000
        },
        "outputId": "93f15abb-759d-42e1-a431-fa111cba11bf"
      },
      "source": [
        "# Multilayer Perceptron (MLP) for multi-class softmax classification:\n",
        "# https://keras.io/getting-started/sequential-model-guide/\n",
        "  \n",
        "\n",
        "import keras\n",
        "from keras.models import Sequential\n",
        "from keras.layers import Dense, Dropout, Activation\n",
        "from keras.optimizers import SGD\n",
        "\n",
        "# Generate dummy data\n",
        "import numpy as np\n",
        "x_train = np.random.random((1000, 20))\n",
        "y_train = keras.utils.to_categorical(np.random.randint(10, size=(1000, 1)), num_classes=10)\n",
        "x_test = np.random.random((100, 20))\n",
        "y_test = keras.utils.to_categorical(np.random.randint(10, size=(100, 1)), num_classes=10)\n",
        "\n",
        "model = Sequential()\n",
        "# Dense(64) is a fully-connected layer with 64 hidden units.\n",
        "# in the first layer, you must specify the expected input data shape:\n",
        "# here, 20-dimensional vectors.\n",
        "model.add(Dense(64, activation='relu', input_dim=20))\n",
        "model.add(Dropout(0.5))\n",
        "model.add(Dense(64, activation='relu'))\n",
        "model.add(Dropout(0.5))\n",
        "model.add(Dense(10, activation='softmax'))\n",
        "\n",
        "sgd = SGD(lr=0.01, decay=1e-6, momentum=0.9, nesterov=True)\n",
        "model.compile(loss='categorical_crossentropy',\n",
        "              optimizer=sgd,\n",
        "              metrics=['accuracy'])\n",
        "\n",
        "model.fit(x_train, y_train,\n",
        "          epochs=20,\n",
        "          batch_size=128)\n",
        "score = model.evaluate(x_test, y_test, batch_size=128)"
      ],
      "execution_count": 1,
      "outputs": [
        {
          "output_type": "stream",
          "text": [
            "Using TensorFlow backend.\n",
            "WARNING: Logging before flag parsing goes to stderr.\n",
            "W0830 01:29:50.046406 140312440575872 deprecation_wrapper.py:119] From /usr/local/lib/python3.6/dist-packages/keras/backend/tensorflow_backend.py:66: The name tf.get_default_graph is deprecated. Please use tf.compat.v1.get_default_graph instead.\n",
            "\n",
            "W0830 01:29:50.091982 140312440575872 deprecation_wrapper.py:119] From /usr/local/lib/python3.6/dist-packages/keras/backend/tensorflow_backend.py:541: The name tf.placeholder is deprecated. Please use tf.compat.v1.placeholder instead.\n",
            "\n",
            "W0830 01:29:50.101407 140312440575872 deprecation_wrapper.py:119] From /usr/local/lib/python3.6/dist-packages/keras/backend/tensorflow_backend.py:4432: The name tf.random_uniform is deprecated. Please use tf.random.uniform instead.\n",
            "\n",
            "W0830 01:29:50.120232 140312440575872 deprecation_wrapper.py:119] From /usr/local/lib/python3.6/dist-packages/keras/backend/tensorflow_backend.py:148: The name tf.placeholder_with_default is deprecated. Please use tf.compat.v1.placeholder_with_default instead.\n",
            "\n",
            "W0830 01:29:50.131083 140312440575872 deprecation.py:506] From /usr/local/lib/python3.6/dist-packages/keras/backend/tensorflow_backend.py:3733: calling dropout (from tensorflow.python.ops.nn_ops) with keep_prob is deprecated and will be removed in a future version.\n",
            "Instructions for updating:\n",
            "Please use `rate` instead of `keep_prob`. Rate should be set to `rate = 1 - keep_prob`.\n",
            "W0830 01:29:50.209385 140312440575872 deprecation_wrapper.py:119] From /usr/local/lib/python3.6/dist-packages/keras/optimizers.py:793: The name tf.train.Optimizer is deprecated. Please use tf.compat.v1.train.Optimizer instead.\n",
            "\n",
            "W0830 01:29:50.224631 140312440575872 deprecation_wrapper.py:119] From /usr/local/lib/python3.6/dist-packages/keras/backend/tensorflow_backend.py:3576: The name tf.log is deprecated. Please use tf.math.log instead.\n",
            "\n",
            "W0830 01:29:50.363386 140312440575872 deprecation.py:323] From /usr/local/lib/python3.6/dist-packages/tensorflow/python/ops/math_grad.py:1250: add_dispatch_support.<locals>.wrapper (from tensorflow.python.ops.array_ops) is deprecated and will be removed in a future version.\n",
            "Instructions for updating:\n",
            "Use tf.where in 2.0, which has the same broadcast rule as np.where\n"
          ],
          "name": "stderr"
        },
        {
          "output_type": "stream",
          "text": [
            "Epoch 1/20\n",
            "1000/1000 [==============================] - 5s 5ms/step - loss: 2.4289 - acc: 0.0990\n",
            "Epoch 2/20\n",
            "1000/1000 [==============================] - 0s 32us/step - loss: 2.3615 - acc: 0.1210\n",
            "Epoch 3/20\n",
            "1000/1000 [==============================] - 0s 34us/step - loss: 2.3392 - acc: 0.1050\n",
            "Epoch 4/20\n",
            "1000/1000 [==============================] - 0s 33us/step - loss: 2.3327 - acc: 0.1040\n",
            "Epoch 5/20\n",
            "1000/1000 [==============================] - 0s 35us/step - loss: 2.3374 - acc: 0.0900\n",
            "Epoch 6/20\n",
            "1000/1000 [==============================] - 0s 37us/step - loss: 2.3234 - acc: 0.1090\n",
            "Epoch 7/20\n",
            "1000/1000 [==============================] - 0s 40us/step - loss: 2.3145 - acc: 0.1070\n",
            "Epoch 8/20\n",
            "1000/1000 [==============================] - 0s 32us/step - loss: 2.3007 - acc: 0.1210\n",
            "Epoch 9/20\n",
            "1000/1000 [==============================] - 0s 35us/step - loss: 2.3042 - acc: 0.1190\n",
            "Epoch 10/20\n",
            "1000/1000 [==============================] - 0s 35us/step - loss: 2.3177 - acc: 0.0980\n",
            "Epoch 11/20\n",
            "1000/1000 [==============================] - 0s 36us/step - loss: 2.3062 - acc: 0.1180\n",
            "Epoch 12/20\n",
            "1000/1000 [==============================] - 0s 34us/step - loss: 2.3035 - acc: 0.1160\n",
            "Epoch 13/20\n",
            "1000/1000 [==============================] - 0s 33us/step - loss: 2.2948 - acc: 0.1100\n",
            "Epoch 14/20\n",
            "1000/1000 [==============================] - 0s 35us/step - loss: 2.2981 - acc: 0.1180\n",
            "Epoch 15/20\n",
            "1000/1000 [==============================] - 0s 36us/step - loss: 2.3048 - acc: 0.1070\n",
            "Epoch 16/20\n",
            "1000/1000 [==============================] - 0s 35us/step - loss: 2.2999 - acc: 0.1230\n",
            "Epoch 17/20\n",
            "1000/1000 [==============================] - 0s 35us/step - loss: 2.2893 - acc: 0.1290\n",
            "Epoch 18/20\n",
            "1000/1000 [==============================] - 0s 38us/step - loss: 2.2994 - acc: 0.0950\n",
            "Epoch 19/20\n",
            "1000/1000 [==============================] - 0s 33us/step - loss: 2.2996 - acc: 0.1080\n",
            "Epoch 20/20\n",
            "1000/1000 [==============================] - 0s 33us/step - loss: 2.2959 - acc: 0.1030\n",
            "100/100 [==============================] - 0s 406us/step\n"
          ],
          "name": "stdout"
        }
      ]
    },
    {
      "cell_type": "code",
      "metadata": {
        "id": "PJIr2xKXJG0P",
        "colab_type": "code",
        "colab": {}
      },
      "source": [
        ""
      ],
      "execution_count": 0,
      "outputs": []
    }
  ]
}