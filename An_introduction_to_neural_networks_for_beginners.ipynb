{
  "nbformat": 4,
  "nbformat_minor": 0,
  "metadata": {
    "kernelspec": {
      "display_name": "Python 3",
      "language": "python",
      "name": "python3"
    },
    "language_info": {
      "codemirror_mode": {
        "name": "ipython",
        "version": 3
      },
      "file_extension": ".py",
      "mimetype": "text/x-python",
      "name": "python",
      "nbconvert_exporter": "python",
      "pygments_lexer": "ipython3",
      "version": "3.6.2"
    },
    "colab": {
      "name": "An introduction to neural networks for beginners.ipynb",
      "version": "0.3.2",
      "provenance": [],
      "collapsed_sections": [],
      "include_colab_link": true
    }
  },
  "cells": [
    {
      "cell_type": "markdown",
      "metadata": {
        "id": "view-in-github",
        "colab_type": "text"
      },
      "source": [
        "<a href=\"https://colab.research.google.com/github/hygjob/keras_exercise/blob/master/An_introduction_to_neural_networks_for_beginners.ipynb\" target=\"_parent\"><img src=\"https://colab.research.google.com/assets/colab-badge.svg\" alt=\"Open In Colab\"/></a>"
      ]
    },
    {
      "cell_type": "code",
      "metadata": {
        "id": "pBiUY7XI_SbD",
        "colab_type": "code",
        "colab": {},
        "outputId": "bc55b0de-b188-424a-c992-ee6e27b6dfa8"
      },
      "source": [
        "import matplotlib.pylab as plt\n",
        "import numpy as np\n",
        "x = np.arange(-8,8, 0.1)\n",
        "f = 1 / ( 1 + np.exp(-x))\n",
        "\n",
        "plt.plot(x,f)\n",
        "plt.xlabel('x')\n",
        "plt.ylabel('f(x)');\n",
        "plt.show()"
      ],
      "execution_count": 0,
      "outputs": [
        {
          "output_type": "display_data",
          "data": {
            "image/png": "[encoded data removed]",
            "text/plain": [
              "<Figure size 432x288 with 1 Axes>"
            ]
          },
          "metadata": {
            "tags": [],
            "needs_background": "light"
          }
        }
      ]
    },
    {
      "cell_type": "code",
      "metadata": {
        "id": "p-dQvtdW_SbJ",
        "colab_type": "code",
        "colab": {}
      },
      "source": [
        "w1 = np.array([[0.2, 0.2, 0.2], [0.4, 0.4, 0.4], [0.6, 0.6, 0.6]])\n",
        "\n",
        "w2 = np.zeros((1,3))\n",
        "w2[0,:] = np.array([0.5, 0.5, 0.5])"
      ],
      "execution_count": 0,
      "outputs": []
    },
    {
      "cell_type": "code",
      "metadata": {
        "id": "6C5DWWQ__SbL",
        "colab_type": "code",
        "colab": {},
        "outputId": "d45655ce-3b95-4075-acac-d8fd2459a299"
      },
      "source": [
        "w2"
      ],
      "execution_count": 0,
      "outputs": [
        {
          "output_type": "execute_result",
          "data": {
            "text/plain": [
              "array([[0.5, 0.5, 0.5]])"
            ]
          },
          "metadata": {
            "tags": []
          },
          "execution_count": 8
        }
      ]
    },
    {
      "cell_type": "code",
      "metadata": {
        "id": "cyyFxC3O_SbO",
        "colab_type": "code",
        "colab": {}
      },
      "source": [
        "wh = np.zeros((1,3))"
      ],
      "execution_count": 0,
      "outputs": []
    },
    {
      "cell_type": "code",
      "metadata": {
        "id": "pmHqvDXj_SbQ",
        "colab_type": "code",
        "colab": {},
        "outputId": "22dfadc7-7213-45c5-c1bf-21198fa0a49e"
      },
      "source": [
        "wh"
      ],
      "execution_count": 0,
      "outputs": [
        {
          "output_type": "execute_result",
          "data": {
            "text/plain": [
              "array([[0., 0., 0.]])"
            ]
          },
          "metadata": {
            "tags": []
          },
          "execution_count": 10
        }
      ]
    },
    {
      "cell_type": "code",
      "metadata": {
        "id": "Sc5SKxtE_SbS",
        "colab_type": "code",
        "colab": {}
      },
      "source": [
        "b1 = np.array([0.8, 0.8, 0.8])\n",
        "b2 = np.array([0.2])"
      ],
      "execution_count": 0,
      "outputs": []
    },
    {
      "cell_type": "code",
      "metadata": {
        "id": "JfxN6ugD_SbU",
        "colab_type": "code",
        "colab": {},
        "outputId": "d2f69c37-3868-4cee-dd1d-784005b6b45a"
      },
      "source": [
        "b1"
      ],
      "execution_count": 0,
      "outputs": [
        {
          "output_type": "execute_result",
          "data": {
            "text/plain": [
              "array([0.8, 0.8, 0.8])"
            ]
          },
          "metadata": {
            "tags": []
          },
          "execution_count": 4
        }
      ]
    },
    {
      "cell_type": "code",
      "metadata": {
        "id": "aSGUuwHA_SbW",
        "colab_type": "code",
        "colab": {},
        "outputId": "330f4c00-dc26-4923-9a85-1bb1a2a5403c"
      },
      "source": [
        "b2"
      ],
      "execution_count": 0,
      "outputs": [
        {
          "output_type": "execute_result",
          "data": {
            "text/plain": [
              "array([0.2])"
            ]
          },
          "metadata": {
            "tags": []
          },
          "execution_count": 5
        }
      ]
    },
    {
      "cell_type": "code",
      "metadata": {
        "id": "_Y5xhSrZ_SbZ",
        "colab_type": "code",
        "colab": {}
      },
      "source": [
        "def f(x):\n",
        "    return 1/ (1+np.exp(-x))"
      ],
      "execution_count": 0,
      "outputs": []
    },
    {
      "cell_type": "code",
      "metadata": {
        "id": "XZpFRRbt_Sbb",
        "colab_type": "code",
        "colab": {}
      },
      "source": [
        "def simple_looped_nn_calc:\n",
        "    pass\n"
      ],
      "execution_count": 0,
      "outputs": []
    },
    {
      "cell_type": "code",
      "metadata": {
        "id": "YqkhJFGk_Sbe",
        "colab_type": "code",
        "colab": {},
        "outputId": "56e7b3dd-bef9-4375-83e8-dfca193d0631"
      },
      "source": [
        "w1 = 0.5\n",
        "w2 = 1.0\n",
        "w3 = 2.0\n",
        "l1 = 'w = 0.5'\n",
        "l2 = 'w = 1.0'\n",
        "l3 = 'w = 2.0'\n",
        "\n",
        "for w, l in [(w1, l1), (w2, l2), (w3, l3)]:\n",
        "    f = 1/ (1 + np.exp(-x*w))\n",
        "    plt.plot(x, f, label=l)\n",
        "\n",
        "plt.xlabel('x')\n",
        "plt.ylabel('h_w(x)')\n",
        "plt.legend(loc=2)\n",
        "plt.show()"
      ],
      "execution_count": 0,
      "outputs": [
        {
          "output_type": "display_data",
          "data": {
            "image/png": "[encoded data removed]",
            "text/plain": [
              "<Figure size 432x288 with 1 Axes>"
            ]
          },
          "metadata": {
            "tags": [],
            "needs_background": "light"
          }
        }
      ]
    },
    {
      "cell_type": "code",
      "metadata": {
        "id": "QJ8Qp2w1_Sbg",
        "colab_type": "code",
        "colab": {},
        "outputId": "c2fc2aca-1b9f-4d76-a203-f9e578dfde69"
      },
      "source": [
        "# 1.5 신경망 구현\n",
        "\n",
        "from sklearn.datasets import load_digits\n",
        "digits = load_digits()\n",
        "print(digits.data.shape)\n",
        "import matplotlib.pyplot as plt\n",
        "plt.gray()\n",
        "plt.matshow(digits.images[1])\n",
        "plt.show()"
      ],
      "execution_count": 0,
      "outputs": [
        {
          "output_type": "stream",
          "text": [
            "(1797, 64)\n"
          ],
          "name": "stdout"
        },
        {
          "output_type": "display_data",
          "data": {
            "text/plain": [
              "<Figure size 432x288 with 0 Axes>"
            ]
          },
          "metadata": {
            "tags": []
          }
        },
        {
          "output_type": "display_data",
          "data": {
            "image/png": "[encoded data removed]",
            "text/plain": [
              "<Figure size 288x288 with 1 Axes>"
            ]
          },
          "metadata": {
            "tags": [],
            "needs_background": "light"
          }
        }
      ]
    },
    {
      "cell_type": "code",
      "metadata": {
        "id": "zJu3LmZ5_Sbj",
        "colab_type": "code",
        "colab": {}
      },
      "source": [
        "1.5.1 데이터 스케일링"
      ],
      "execution_count": 0,
      "outputs": []
    },
    {
      "cell_type": "code",
      "metadata": {
        "id": "8DEmJpV4_Sbm",
        "colab_type": "code",
        "colab": {}
      },
      "source": [
        "데이터 스케일링이 왜 필요한가? 다음에 나온 픽셀 데이터를 살펴보자."
      ],
      "execution_count": 0,
      "outputs": []
    },
    {
      "cell_type": "code",
      "metadata": {
        "id": "4bdrUNB1_Sbp",
        "colab_type": "code",
        "colab": {}
      },
      "source": [
        "digits.data[0,:]\n"
      ],
      "execution_count": 0,
      "outputs": []
    },
    {
      "cell_type": "markdown",
      "metadata": {
        "id": "uWp1cb_W_Sbr",
        "colab_type": "text"
      },
      "source": [
        "입력 데이터의 값이 0 ~ 15 에 있다. 스케일링이라는 뜻은 입력값을 0값을 중심으로 -1에서 1사이의 값으로 바꾸는 것을 말한다. 이런 식으로 스케일링하면 신경망을 수렴시키는데 도움이 되고 다른 타입의 데이터와 연동하기 쉽다. sci-kit learn을 사용해 보자."
      ]
    },
    {
      "cell_type": "code",
      "metadata": {
        "id": "kbEmghfV_Sbr",
        "colab_type": "code",
        "colab": {}
      },
      "source": [
        "# ref code http://adventuresinmachinelearning.com/neural-networks-tutorial\n"
      ],
      "execution_count": 0,
      "outputs": []
    },
    {
      "cell_type": "code",
      "metadata": {
        "id": "IraT74yH_Sbt",
        "colab_type": "code",
        "colab": {}
      },
      "source": [
        "from sklearn.preprocessing import StandardScaler\n"
      ],
      "execution_count": 0,
      "outputs": []
    },
    {
      "cell_type": "markdown",
      "metadata": {
        "id": "sYKMc_80_Sbv",
        "colab_type": "text"
      },
      "source": [
        "1.5.3 출력층 설정\n"
      ]
    },
    {
      "cell_type": "markdown",
      "metadata": {
        "id": "BWb61U9q_Sbw",
        "colab_type": "text"
      },
      "source": [
        "입력한 픽셀로 우리가 찾고자 하는 값을 0~9사이에서 찾아야 한다. 알다시피 출력층의 노드는 0 ~9까지를 나타낸다.\n",
        "숫자 5의 이미지가 입력으로 들어가면 결과층에서 5에 해당하는 노드가 보다 높은 확률을 나타내야 한다. 이상적으로는 [0, 0, 0, 0, 0, 1, 0, 0, 0, 0]와 같이 나타나면 될 것이다. 그렇지만 실제결과값을 보면 [0.01, 0.1, 0.2, 0.05, 0.3, 0.8, 0.4, 0.03, 0.25, 0.02] 식으로 되어 있다. 여기선 출력확률이 가장 높은 것이 예측한 숫자라고 볼 수 있다."
      ]
    },
    {
      "cell_type": "markdown",
      "metadata": {
        "id": "7kG_fQgc_Sbw",
        "colab_type": "text"
      },
      "source": [
        "scikit learn에서 제공하는 MNIST를 가지고 테스트를 해 보자. 손으로 쓴 숫자값을 가지고 분류를 해 보자. 모델 구축을 위해 숫자값을 벡터로 변환하는 과정을 거쳐야 할 것이고 출력값은 10개의 차원을 가져야 한다. 즉, 입력값이 1이면 출력값은 [0, 1, 0, 0, 0, 0, 0,0, 0, 0]과 같아야 한다. \n",
        "\n",
        "아래 코드를 보자."
      ]
    },
    {
      "cell_type": "code",
      "metadata": {
        "id": "y3zMQ-VX_Sbx",
        "colab_type": "code",
        "colab": {}
      },
      "source": [
        "y_a = np.zeros((2,10))"
      ],
      "execution_count": 0,
      "outputs": []
    },
    {
      "cell_type": "code",
      "metadata": {
        "id": "CUDAR9en_Sbz",
        "colab_type": "code",
        "colab": {},
        "outputId": "d02f6141-5e2b-40bb-f58f-b831fafd8558"
      },
      "source": [
        "y_a"
      ],
      "execution_count": 0,
      "outputs": [
        {
          "output_type": "execute_result",
          "data": {
            "text/plain": [
              "array([[0., 0., 0., 0., 0., 0., 0., 0., 0., 0.],\n",
              "       [0., 0., 0., 0., 0., 0., 0., 0., 0., 0.]])"
            ]
          },
          "metadata": {
            "tags": []
          },
          "execution_count": 31
        }
      ]
    },
    {
      "cell_type": "code",
      "metadata": {
        "id": "sfPfy_F7_Sb3",
        "colab_type": "code",
        "colab": {}
      },
      "source": [
        "y_b = np.zeros([2,10])"
      ],
      "execution_count": 0,
      "outputs": []
    },
    {
      "cell_type": "code",
      "metadata": {
        "id": "0xpCKPO5_Sb6",
        "colab_type": "code",
        "colab": {},
        "outputId": "714730ce-f096-4cc5-cd5f-0f0839bacb83"
      },
      "source": [
        "y_b"
      ],
      "execution_count": 0,
      "outputs": [
        {
          "output_type": "execute_result",
          "data": {
            "text/plain": [
              "array([[0., 0., 0., 0., 0., 0., 0., 0., 0., 0.],\n",
              "       [0., 0., 0., 0., 0., 0., 0., 0., 0., 0.]])"
            ]
          },
          "metadata": {
            "tags": []
          },
          "execution_count": 33
        }
      ]
    },
    {
      "cell_type": "code",
      "metadata": {
        "id": "m1BeLNNd_Sb-",
        "colab_type": "code",
        "colab": {},
        "outputId": "8925de71-295c-4dd4-ac0c-de15bbf063ed"
      },
      "source": [
        "y"
      ],
      "execution_count": 0,
      "outputs": [
        {
          "output_type": "execute_result",
          "data": {
            "text/plain": [
              "array([0, 1, 2, ..., 8, 9, 8])"
            ]
          },
          "metadata": {
            "tags": []
          },
          "execution_count": 59
        }
      ]
    },
    {
      "cell_type": "code",
      "metadata": {
        "id": "-Jt2KudD_ScB",
        "colab_type": "code",
        "colab": {},
        "outputId": "a9b6f594-1a0c-4beb-8684-241fbde01387"
      },
      "source": [
        "y.shape"
      ],
      "execution_count": 0,
      "outputs": [
        {
          "output_type": "execute_result",
          "data": {
            "text/plain": [
              "(1797,)"
            ]
          },
          "metadata": {
            "tags": []
          },
          "execution_count": 58
        }
      ]
    },
    {
      "cell_type": "code",
      "metadata": {
        "id": "uD0NqNZI_ScD",
        "colab_type": "code",
        "colab": {}
      },
      "source": [
        "y_vect = convert_y_to_vect(y)"
      ],
      "execution_count": 0,
      "outputs": []
    },
    {
      "cell_type": "code",
      "metadata": {
        "id": "RbgLU6Kr_ScF",
        "colab_type": "code",
        "colab": {},
        "outputId": "6a1d6c41-7949-47cd-818e-712d72378ae2"
      },
      "source": [
        "y_vect.shape"
      ],
      "execution_count": 0,
      "outputs": [
        {
          "output_type": "execute_result",
          "data": {
            "text/plain": [
              "(1797, 10)"
            ]
          },
          "metadata": {
            "tags": []
          },
          "execution_count": 63
        }
      ]
    },
    {
      "cell_type": "code",
      "metadata": {
        "id": "Iy1EanfU_ScI",
        "colab_type": "code",
        "colab": {}
      },
      "source": [
        "import numpy as np\n",
        "\n",
        "def convert_y_to_vect(y):\n",
        "    y_vect = np.zeros((len(y), 10))\n",
        "    for i in range(len(y)):\n",
        "        y_vect[i, y[i]] = 1\n",
        "    return y_vect\n",
        "\n",
        "\n"
      ],
      "execution_count": 0,
      "outputs": []
    },
    {
      "cell_type": "code",
      "metadata": {
        "id": "EMD-J-12_ScK",
        "colab_type": "code",
        "colab": {}
      },
      "source": [
        "1.5.4 신경망구축"
      ],
      "execution_count": 0,
      "outputs": []
    },
    {
      "cell_type": "markdown",
      "metadata": {
        "id": "fGGLhXNo_ScL",
        "colab_type": "text"
      },
      "source": [
        "신경망을 구축해 보자. 이미지당 64개의 픽셀이고 이를 받기 위해 입력층은 64개의 노드로 하자. 출력층은 숫자를 예측해야 하므로 10개의 노드를 설정한다. 은닉층을 설정할 차례다. 입력층과 출력층 사이의 층을 은닉층이라고 한다. \n",
        "네트워크를 구성하기 위해 파이썬 리스트를 정해보자.\n",
        "\n",
        "nn_structure = [64, 30 10]"
      ]
    },
    {
      "cell_type": "code",
      "metadata": {
        "id": "tHIGvX1W_ScM",
        "colab_type": "code",
        "colab": {}
      },
      "source": [
        "활성화함수로 시그모이드를 쓸 것이다.\n"
      ],
      "execution_count": 0,
      "outputs": []
    },
    {
      "cell_type": "code",
      "metadata": {
        "id": "mt5pd_i1_ScO",
        "colab_type": "code",
        "colab": {}
      },
      "source": [
        "def f(x):\n",
        "    return 1/ (1+ np.exp(-x))"
      ],
      "execution_count": 0,
      "outputs": []
    },
    {
      "cell_type": "code",
      "metadata": {
        "id": "Z3i1btSc_ScR",
        "colab_type": "code",
        "colab": {}
      },
      "source": [
        "def f_deriv(x):\n",
        "    return f(x) * ( 1 - f(x))"
      ],
      "execution_count": 0,
      "outputs": []
    },
    {
      "cell_type": "code",
      "metadata": {
        "id": "V7rvaHFV_ScT",
        "colab_type": "code",
        "colab": {},
        "outputId": "93642da8-99a3-44c0-9773-253e7a7ec50d"
      },
      "source": [
        "for i in range(1, 5):\n",
        "    print(i)"
      ],
      "execution_count": 0,
      "outputs": [
        {
          "output_type": "stream",
          "text": [
            "1\n",
            "2\n",
            "3\n",
            "4\n"
          ],
          "name": "stdout"
        }
      ]
    },
    {
      "cell_type": "code",
      "metadata": {
        "id": "6yuR3CkL_ScW",
        "colab_type": "code",
        "colab": {}
      },
      "source": [
        "import numpy.random as r\n",
        "def setup_and_init_weight(nn_structure):\n",
        "    W = {}\n",
        "    b = {}\n",
        "    for l in range(1, len(nn_structure)):\n",
        "        W[l] = r.random_sample((nn_structure[l], nn_structure[l-1]))\n",
        "        b[l] = r.random_sample((nn_structure[l],))\n",
        "    return W, b\n",
        "\n",
        "        "
      ],
      "execution_count": 0,
      "outputs": []
    },
    {
      "cell_type": "code",
      "metadata": {
        "id": "gF7zz1ll_ScZ",
        "colab_type": "code",
        "colab": {}
      },
      "source": [
        "ww, bb = setup_and_init_weight(nn_structure)"
      ],
      "execution_count": 0,
      "outputs": []
    },
    {
      "cell_type": "code",
      "metadata": {
        "id": "8Q0kRM7I_Scc",
        "colab_type": "code",
        "colab": {},
        "outputId": "11201dcb-d3b0-4fb3-bea2-07b9fc77f242"
      },
      "source": [
        "type(b)"
      ],
      "execution_count": 0,
      "outputs": [
        {
          "output_type": "execute_result",
          "data": {
            "text/plain": [
              "dict"
            ]
          },
          "metadata": {
            "tags": []
          },
          "execution_count": 72
        }
      ]
    },
    {
      "cell_type": "code",
      "metadata": {
        "id": "GpZUNsZ-_Sce",
        "colab_type": "code",
        "colab": {}
      },
      "source": [
        "def init_tri_values(nn_structure):\n",
        "    tri_W = {}\n",
        "    tri_b = {}\n",
        "    for l in range(1, len(nn_structure)):\n",
        "        tri_W[l] = np.zeros((nn_structure[l], nn_structure[l-1]))\n",
        "        tri_b[l] = np.zeros((nn_structure[l],))\n",
        "    return tri_W, tri_b\n"
      ],
      "execution_count": 0,
      "outputs": []
    },
    {
      "cell_type": "code",
      "metadata": {
        "id": "KKJKrcaz_Scf",
        "colab_type": "code",
        "colab": {}
      },
      "source": [
        "triww, tribb = init_tri_values(nn_structure)"
      ],
      "execution_count": 0,
      "outputs": []
    },
    {
      "cell_type": "code",
      "metadata": {
        "id": "scMyE4yD_Sci",
        "colab_type": "code",
        "colab": {},
        "outputId": "20633ea5-0216-4c7f-e470-02de99a05cb7"
      },
      "source": [
        "triww"
      ],
      "execution_count": 0,
      "outputs": [
        {
          "output_type": "execute_result",
          "data": {
            "text/plain": [
              "{1: array([[0., 0., 0., ..., 0., 0., 0.],\n",
              "        [0., 0., 0., ..., 0., 0., 0.],\n",
              "        [0., 0., 0., ..., 0., 0., 0.],\n",
              "        ...,\n",
              "        [0., 0., 0., ..., 0., 0., 0.],\n",
              "        [0., 0., 0., ..., 0., 0., 0.],\n",
              "        [0., 0., 0., ..., 0., 0., 0.]]),\n",
              " 2: array([[0., 0., 0., 0., 0., 0., 0., 0., 0., 0., 0., 0., 0., 0., 0., 0.,\n",
              "         0., 0., 0., 0., 0., 0., 0., 0., 0., 0., 0., 0., 0., 0.],\n",
              "        [0., 0., 0., 0., 0., 0., 0., 0., 0., 0., 0., 0., 0., 0., 0., 0.,\n",
              "         0., 0., 0., 0., 0., 0., 0., 0., 0., 0., 0., 0., 0., 0.],\n",
              "        [0., 0., 0., 0., 0., 0., 0., 0., 0., 0., 0., 0., 0., 0., 0., 0.,\n",
              "         0., 0., 0., 0., 0., 0., 0., 0., 0., 0., 0., 0., 0., 0.],\n",
              "        [0., 0., 0., 0., 0., 0., 0., 0., 0., 0., 0., 0., 0., 0., 0., 0.,\n",
              "         0., 0., 0., 0., 0., 0., 0., 0., 0., 0., 0., 0., 0., 0.],\n",
              "        [0., 0., 0., 0., 0., 0., 0., 0., 0., 0., 0., 0., 0., 0., 0., 0.,\n",
              "         0., 0., 0., 0., 0., 0., 0., 0., 0., 0., 0., 0., 0., 0.],\n",
              "        [0., 0., 0., 0., 0., 0., 0., 0., 0., 0., 0., 0., 0., 0., 0., 0.,\n",
              "         0., 0., 0., 0., 0., 0., 0., 0., 0., 0., 0., 0., 0., 0.],\n",
              "        [0., 0., 0., 0., 0., 0., 0., 0., 0., 0., 0., 0., 0., 0., 0., 0.,\n",
              "         0., 0., 0., 0., 0., 0., 0., 0., 0., 0., 0., 0., 0., 0.],\n",
              "        [0., 0., 0., 0., 0., 0., 0., 0., 0., 0., 0., 0., 0., 0., 0., 0.,\n",
              "         0., 0., 0., 0., 0., 0., 0., 0., 0., 0., 0., 0., 0., 0.],\n",
              "        [0., 0., 0., 0., 0., 0., 0., 0., 0., 0., 0., 0., 0., 0., 0., 0.,\n",
              "         0., 0., 0., 0., 0., 0., 0., 0., 0., 0., 0., 0., 0., 0.],\n",
              "        [0., 0., 0., 0., 0., 0., 0., 0., 0., 0., 0., 0., 0., 0., 0., 0.,\n",
              "         0., 0., 0., 0., 0., 0., 0., 0., 0., 0., 0., 0., 0., 0.]])}"
            ]
          },
          "metadata": {
            "tags": []
          },
          "execution_count": 74
        }
      ]
    },
    {
      "cell_type": "markdown",
      "metadata": {
        "id": "KIMe9kuP_Scj",
        "colab_type": "text"
      },
      "source": [
        "경사하강법을 적용하려면 먼져 피드 포워드 계산을 해야한다. 다음은 1.3.5에서 보여주었던 피드포워드 함수를 변경한 버전이다."
      ]
    },
    {
      "cell_type": "code",
      "metadata": {
        "id": "VZ1uXvtt_Sck",
        "colab_type": "code",
        "colab": {},
        "outputId": "89e59ffe-fe82-4b5b-812c-ddad5b25b79a"
      },
      "source": [
        "f"
      ],
      "execution_count": 0,
      "outputs": [
        {
          "output_type": "execute_result",
          "data": {
            "text/plain": [
              "<function __main__.f(x)>"
            ]
          },
          "metadata": {
            "tags": []
          },
          "execution_count": 75
        }
      ]
    },
    {
      "cell_type": "code",
      "metadata": {
        "id": "mk8bqJb0_Scl",
        "colab_type": "code",
        "colab": {}
      },
      "source": [
        "def feed_forward(x, W, b):\n",
        "    h = { 1:x}\n",
        "    z = {}\n",
        "    for l in range(1, len(W) + 1):\n",
        "        if l == 1:\n",
        "            node_in = x\n",
        "        else:\n",
        "            node_in = h[l]\n",
        "        z[l+1] = W[l].dot(node_in) + b[l] # z^(l+1) = W^(l) * h^(l) + b^(l)\n",
        "        h[l+1] = f(z[l+1]) # h^(l) = f(z^(l))\n",
        "        \n",
        "    return h, z\n"
      ],
      "execution_count": 0,
      "outputs": []
    },
    {
      "cell_type": "code",
      "metadata": {
        "id": "TK-J72MV_Scn",
        "colab_type": "code",
        "colab": {}
      },
      "source": [
        "마지막으로 역전파를 실행하여 출력층의 델타값과 은닉층의 델타값을 구한다."
      ],
      "execution_count": 0,
      "outputs": []
    },
    {
      "cell_type": "code",
      "metadata": {
        "id": "vgO6TXoY_Sco",
        "colab_type": "code",
        "colab": {}
      },
      "source": [
        "def calculate_out_layer_delta(y, h_out, z_out):\n",
        "    # delta^(nl) = -(y_i - h_i^(nl)) * f'(z_i^(nl))\n",
        "    return -(y-h_out) * f_deriv(z_out)"
      ],
      "execution_count": 0,
      "outputs": []
    },
    {
      "cell_type": "code",
      "metadata": {
        "id": "57VAOC3t_Scq",
        "colab_type": "code",
        "colab": {}
      },
      "source": [
        "def calculate_hidden_delta(delta_plus_1, w_l, z_l):\n",
        "    # delta^(l) = (transpose(W^(l)) * delta^(l+1)) * f'(z^(l))\n",
        "    return np.dot(np.transpose(w_l), delta_plus_1) * f_deriv(z_l)"
      ],
      "execution_count": 0,
      "outputs": []
    },
    {
      "cell_type": "code",
      "metadata": {
        "id": "E7tZz5jJ_Scs",
        "colab_type": "code",
        "colab": {}
      },
      "source": [
        "지금까지 작업한 것을 모아보자."
      ],
      "execution_count": 0,
      "outputs": []
    },
    {
      "cell_type": "code",
      "metadata": {
        "id": "t_gP2dQx_Scw",
        "colab_type": "code",
        "colab": {}
      },
      "source": [
        "def train_nn(nn_structure, X, y, iter_num = 3000, alpha=0.25):\n",
        "    W, b = setup_and_init_weights(nn_structure)\n",
        "    cnt = 0\n",
        "    m = len(y)\n",
        "    avg_cost_func = []\n",
        "    print('Starting gradient descnet for {} iterations'.format(iter_num))\n",
        "    while cnt < iter_num:\n",
        "        if cnt%1000 = 0:\n",
        "            print('Iteration {} of {}'.format(cnt, iter_num))\n",
        "            \n",
        "        tri_W, tri_b = init_tri_values(nn_structure)\n",
        "        avg_cost = 0\n",
        "        for i in range(len(y)):\n",
        "            delta = {}\n",
        "            # perform the feed forward pass and return the stored h and z values, \n",
        "            # to be used in the gradient descent step\n",
        "            h, z = feed_forward(X[i, :], W, b)\n",
        "            # loop from nl - 1 to 1 backpropagating the errors\n",
        "            for l in range(len(nn_structure), 0, -1):\n",
        "                if l == len(nn_structure):\n",
        "                    delta[l] = calculate_out_layer_delta(y[i,:], h[l], z[l])\n",
        "                    avg_cost += np.linalg.norm((y[i,:]-h[l]))\n",
        "                else:\n",
        "                    if l > 1:\n",
        "                        delta[l] = calculate_hidden_delta(delta[l+1], W[l], z[l])\n",
        "                        # trwiW^(l) = triW^(l) + delta^(l+1) * transpose(h^(l))\n",
        "                        tri_W[l] += np.dot(delta[l+1][:, np.newaxis], np.transpose(h[l][:,np.newaxis]))\n",
        "                        # trib^(l) = trib^(l) + delta^(l+1)\n",
        "                        tri_b[l] += delta[l+1]\n",
        "        # perform the gradient descent step for the weights in each layer\n",
        "        for l in range(len(nn_structure) - 1, 0, -1):\n",
        "            W[l] += -alpha * (1.0 / m * tri_W[l])\n",
        "            b[l] += -alpha * (1.0 / m * tri_b[l])\n",
        "        # complete the average cost calculation\n",
        "        \n",
        "        avg_cost = 1.0 / m * avg_cost\n",
        "        avg_cost_func.append(avg_cost)\n",
        "        cnt += 1\n",
        "    return W, b, avg_cost_func\n",
        "        "
      ],
      "execution_count": 0,
      "outputs": []
    },
    {
      "cell_type": "markdown",
      "metadata": {
        "id": "iE98OVGO_Scx",
        "colab_type": "text"
      },
      "source": [
        "먼저, 특정 조건일 시 경사하강이 끝나는 별도의 설정은 하지 않았다. 대신, 특정 회수만큼 반복(3000번)하도록 하였다. 그리고 비용 함수의 평균의 진행정도를 보았다(avg_cost_func). 반복이 될면서 학습 샘플을 가지고 피드 포워드와 역전파를 진행하였다. 역전파 단계는 출력층에서 부터 거꾸로 값을 전달하는 식(range(len(nn_structure), 0, -1)로 진행을 하였다. 출력층에 다다르면 비용 평균을 계산하였다. 평균누적값 tri_W, tri_b를 각 층마다 계산하였다.\n",
        "\n",
        "마지막으로 모든 학습 샘플로 반복을 진행한 후, tri_W, tri_b를 갱신하고, 경사하강법을 사용하여 가중치와 절편을 계산하였다.\n",
        "\n",
        "W^(l) = W^(l) - alpha[ 1 / m * delta-W^(l) ]\n",
        "b^(l) = b^(l) - alpha[ 1 / m * delta-b^(l) ]"
      ]
    },
    {
      "cell_type": "code",
      "metadata": {
        "id": "-clPYLAs_Scy",
        "colab_type": "code",
        "colab": {}
      },
      "source": [
        "과정을 반복하면 비용 평균값에 따라 가충치와 절편이 갱신되고 과정이 모두 종료되면 최종적인 가충치와 절편값이 정해진다."
      ],
      "execution_count": 0,
      "outputs": []
    },
    {
      "cell_type": "code",
      "metadata": {
        "id": "XXmWthjR_Sc2",
        "colab_type": "code",
        "colab": {}
      },
      "source": [
        "W, b, avg_cost_func = train_nn(nn_structure, X_train, y_v_train)"
      ],
      "execution_count": 0,
      "outputs": []
    },
    {
      "cell_type": "code",
      "metadata": {
        "id": "EtCbnS4U_Sc5",
        "colab_type": "code",
        "colab": {}
      },
      "source": [
        "plt.plot(avg_cost_func)\n",
        "plt.ylabel('Average J')\n",
        "plt.xlabel('Iteration number')\n",
        "plt.show()"
      ],
      "execution_count": 0,
      "outputs": []
    },
    {
      "cell_type": "markdown",
      "metadata": {
        "id": "EueBIVIQ_Sc8",
        "colab_type": "text"
      },
      "source": [
        "1.5.5 훈련된 모델의 정확도"
      ]
    },
    {
      "cell_type": "code",
      "metadata": {
        "id": "AU8WkDTa_Sc9",
        "colab_type": "code",
        "colab": {}
      },
      "source": [
        "def predict_y(W, b, X, n_layers):\n",
        "    m = X.shape[0]\n",
        "    y = np.zeros((m,))\n",
        "    for i in range(m):\n",
        "        h, z = feed_forward(X[i,:], W, b)\n",
        "        y [i] = np.argmax(h[n_layers])\n",
        "        \n",
        "    return y"
      ],
      "execution_count": 0,
      "outputs": []
    },
    {
      "cell_type": "code",
      "metadata": {
        "id": "oko3A64__Sc-",
        "colab_type": "code",
        "colab": {}
      },
      "source": [
        "from sklearn.metrics import accuracy_scope\n",
        "y_pred = predict_y(W, b, X_test, 3)\n",
        "accuracy_score(y_test, y_pred) * 100"
      ],
      "execution_count": 0,
      "outputs": []
    },
    {
      "cell_type": "code",
      "metadata": {
        "id": "8-XDJk4c_SdA",
        "colab_type": "code",
        "colab": {}
      },
      "source": [
        "\n",
        "\n",
        "# 연습\n",
        "nn_structure = [64, 30, 10]\n"
      ],
      "execution_count": 0,
      "outputs": []
    },
    {
      "cell_type": "code",
      "metadata": {
        "id": "PAEmsy-Q_SdB",
        "colab_type": "code",
        "colab": {},
        "outputId": "a8461e1c-f4de-4e23-8d9b-f5f85eccd5f9"
      },
      "source": [
        "from sklearn.datasets import load_digits\n",
        "digits = load_digits()\n",
        "print(digits.data.shape)\n",
        "import matplotlib.pyplot as plt \n",
        "plt.gray() \n",
        "plt.matshow(digits.images[1]) \n",
        "plt.show()"
      ],
      "execution_count": 0,
      "outputs": [
        {
          "output_type": "stream",
          "text": [
            "(1797, 64)\n"
          ],
          "name": "stdout"
        },
        {
          "output_type": "display_data",
          "data": {
            "text/plain": [
              "<Figure size 432x288 with 0 Axes>"
            ]
          },
          "metadata": {
            "tags": []
          }
        },
        {
          "output_type": "display_data",
          "data": {
            "image/png": "[encoded data removed]",
            "text/plain": [
              "<Figure size 288x288 with 1 Axes>"
            ]
          },
          "metadata": {
            "tags": [],
            "needs_background": "light"
          }
        }
      ]
    },
    {
      "cell_type": "code",
      "metadata": {
        "id": "OmHfNPVo_SdD",
        "colab_type": "code",
        "colab": {},
        "outputId": "a2cbc98d-afeb-47a8-9a46-b86b009ea06a"
      },
      "source": [
        "digits.data[0,:]"
      ],
      "execution_count": 0,
      "outputs": [
        {
          "output_type": "execute_result",
          "data": {
            "text/plain": [
              "array([ 0.,  0.,  5., 13.,  9.,  1.,  0.,  0.,  0.,  0., 13., 15., 10.,\n",
              "       15.,  5.,  0.,  0.,  3., 15.,  2.,  0., 11.,  8.,  0.,  0.,  4.,\n",
              "       12.,  0.,  0.,  8.,  8.,  0.,  0.,  5.,  8.,  0.,  0.,  9.,  8.,\n",
              "        0.,  0.,  4., 11.,  0.,  1., 12.,  7.,  0.,  0.,  2., 14.,  5.,\n",
              "       10., 12.,  0.,  0.,  0.,  0.,  6., 13., 10.,  0.,  0.,  0.])"
            ]
          },
          "metadata": {
            "tags": []
          },
          "execution_count": 77
        }
      ]
    },
    {
      "cell_type": "code",
      "metadata": {
        "id": "xoK3L8ik_SdE",
        "colab_type": "code",
        "colab": {}
      },
      "source": [
        "from sklearn.preprocessing import StandardScaler\n",
        "X_scale = StandardScaler()\n",
        "X = X_scale.fit_transform(digits.data)"
      ],
      "execution_count": 0,
      "outputs": []
    },
    {
      "cell_type": "code",
      "metadata": {
        "id": "b78M4CyU_SdG",
        "colab_type": "code",
        "colab": {},
        "outputId": "5ecac4b8-47f0-4c9a-ed14-7aecf6872299"
      },
      "source": [
        "X[0,:]"
      ],
      "execution_count": 0,
      "outputs": [
        {
          "output_type": "execute_result",
          "data": {
            "text/plain": [
              "array([ 0.        , -0.33501649, -0.04308102,  0.27407152, -0.66447751,\n",
              "       -0.84412939, -0.40972392, -0.12502292, -0.05907756, -0.62400926,\n",
              "        0.4829745 ,  0.75962245, -0.05842586,  1.12772113,  0.87958306,\n",
              "       -0.13043338, -0.04462507,  0.11144272,  0.89588044, -0.86066632,\n",
              "       -1.14964846,  0.51547187,  1.90596347, -0.11422184, -0.03337973,\n",
              "        0.48648928,  0.46988512, -1.49990136, -1.61406277,  0.07639777,\n",
              "        1.54181413, -0.04723238,  0.        ,  0.76465553,  0.05263019,\n",
              "       -1.44763006, -1.73666443,  0.04361588,  1.43955804,  0.        ,\n",
              "       -0.06134367,  0.8105536 ,  0.63011714, -1.12245711, -1.06623158,\n",
              "        0.66096475,  0.81845076, -0.08874162, -0.03543326,  0.74211893,\n",
              "        1.15065212, -0.86867056,  0.11012973,  0.53761116, -0.75743581,\n",
              "       -0.20978513, -0.02359646, -0.29908135,  0.08671869,  0.20829258,\n",
              "       -0.36677122, -1.14664746, -0.5056698 , -0.19600752])"
            ]
          },
          "metadata": {
            "tags": []
          },
          "execution_count": 79
        }
      ]
    },
    {
      "cell_type": "code",
      "metadata": {
        "id": "Q9hT0Q_F_SdI",
        "colab_type": "code",
        "colab": {}
      },
      "source": [
        "from sklearn.model_selection import train_test_split\n",
        "y = digits.target\n",
        "X_train, X_test, y_train, y_test = train_test_split(X, y, test_size=0.4)"
      ],
      "execution_count": 0,
      "outputs": []
    },
    {
      "cell_type": "code",
      "metadata": {
        "id": "4jCZcpFq_SdM",
        "colab_type": "code",
        "colab": {},
        "outputId": "059472e0-19e8-4df5-9ad4-9896a847fc5f"
      },
      "source": [
        "import numpy as np\n",
        "def convert_y_to_vect(y):\n",
        "    y_vect = np.zeros((len(y), 10))\n",
        "    for i in range(len(y)):\n",
        "        y_vect[i, y[i]] = 1\n",
        "    return y_vect\n",
        "y_v_train = convert_y_to_vect(y_train)\n",
        "y_v_test = convert_y_to_vect(y_test)\n",
        "y_train[0], y_v_train[0]"
      ],
      "execution_count": 0,
      "outputs": [
        {
          "output_type": "execute_result",
          "data": {
            "text/plain": [
              "(0, array([1., 0., 0., 0., 0., 0., 0., 0., 0., 0.]))"
            ]
          },
          "metadata": {
            "tags": []
          },
          "execution_count": 81
        }
      ]
    },
    {
      "cell_type": "code",
      "metadata": {
        "id": "r3y2_YCc_SdN",
        "colab_type": "code",
        "colab": {}
      },
      "source": [
        "nn_structure = [64, 30, 10]"
      ],
      "execution_count": 0,
      "outputs": []
    },
    {
      "cell_type": "code",
      "metadata": {
        "id": "GD-8TpJf_SdP",
        "colab_type": "code",
        "colab": {}
      },
      "source": [
        "def f(x):\n",
        "    return 1 / (1 + np.exp(-x))\n",
        "def f_deriv(x):\n",
        "    return f(x) * (1 - f(x))"
      ],
      "execution_count": 0,
      "outputs": []
    },
    {
      "cell_type": "code",
      "metadata": {
        "id": "T8vuK_HJ_SdR",
        "colab_type": "code",
        "colab": {}
      },
      "source": [
        "import numpy.random as r\n",
        "def setup_and_init_weights(nn_structure):\n",
        "    W = {}\n",
        "    b = {}\n",
        "    for l in range(1, len(nn_structure)):\n",
        "        W[l] = r.random_sample((nn_structure[l], nn_structure[l-1]))\n",
        "        b[l] = r.random_sample((nn_structure[l],))\n",
        "    return W, b"
      ],
      "execution_count": 0,
      "outputs": []
    },
    {
      "cell_type": "code",
      "metadata": {
        "id": "yF-jR0rK_SdU",
        "colab_type": "code",
        "colab": {}
      },
      "source": [
        "def init_tri_values(nn_structure):\n",
        "    tri_W = {}\n",
        "    tri_b = {}\n",
        "    for l in range(1, len(nn_structure)):\n",
        "        tri_W[l] = np.zeros((nn_structure[l], nn_structure[l-1]))\n",
        "        tri_b[l] = np.zeros((nn_structure[l],))\n",
        "    return tri_W, tri_b"
      ],
      "execution_count": 0,
      "outputs": []
    },
    {
      "cell_type": "code",
      "metadata": {
        "id": "2Hv_O1y8_SdX",
        "colab_type": "code",
        "colab": {}
      },
      "source": [
        "def feed_forward(x, W, b):\n",
        "    h = {1: x}\n",
        "    z = {}\n",
        "    for l in range(1, len(W) + 1):\n",
        "        # if it is the first layer, then the input into the weights is x, otherwise, \n",
        "        # it is the output from the last layer\n",
        "        if l == 1:\n",
        "            node_in = x\n",
        "        else:\n",
        "            node_in = h[l]\n",
        "        z[l+1] = W[l].dot(node_in) + b[l] # z^(l+1) = W^(l)*h^(l) + b^(l)  \n",
        "        h[l+1] = f(z[l+1]) # h^(l) = f(z^(l)) \n",
        "    return h, z"
      ],
      "execution_count": 0,
      "outputs": []
    },
    {
      "cell_type": "code",
      "metadata": {
        "id": "MCRZWhb7_SdY",
        "colab_type": "code",
        "colab": {}
      },
      "source": [
        "def calculate_out_layer_delta(y, h_out, z_out):\n",
        "    # delta^(nl) = -(y_i - h_i^(nl)) * f'(z_i^(nl))\n",
        "    return -(y-h_out) * f_deriv(z_out)\n",
        "\n",
        "def calculate_hidden_delta(delta_plus_1, w_l, z_l):\n",
        "    # delta^(l) = (transpose(W^(l)) * delta^(l+1)) * f'(z^(l))\n",
        "    return np.dot(np.transpose(w_l), delta_plus_1) * f_deriv(z_l)"
      ],
      "execution_count": 0,
      "outputs": []
    },
    {
      "cell_type": "code",
      "metadata": {
        "id": "iRGoKN4Z_Sda",
        "colab_type": "code",
        "colab": {}
      },
      "source": [
        "def train_nn(nn_structure, X, y, iter_num=3000, alpha=0.25):\n",
        "    W, b = setup_and_init_weights(nn_structure)\n",
        "    cnt = 0\n",
        "    m = len(y)\n",
        "    avg_cost_func = []\n",
        "    print('Starting gradient descent for {} iterations'.format(iter_num))\n",
        "    while cnt < iter_num:\n",
        "        if cnt%1000 == 0:\n",
        "            print('Iteration {} of {}'.format(cnt, iter_num))\n",
        "        tri_W, tri_b = init_tri_values(nn_structure)\n",
        "        avg_cost = 0\n",
        "        for i in range(len(y)):\n",
        "            delta = {}\n",
        "            # perform the feed forward pass and return the stored h and z values, to be used in the\n",
        "            # gradient descent step\n",
        "            h, z = feed_forward(X[i, :], W, b)\n",
        "            # loop from nl-1 to 1 backpropagating the errors\n",
        "            for l in range(len(nn_structure), 0, -1):\n",
        "                if l == len(nn_structure):\n",
        "                    delta[l] = calculate_out_layer_delta(y[i,:], h[l], z[l])\n",
        "                    avg_cost += np.linalg.norm((y[i,:]-h[l]))\n",
        "                else:\n",
        "                    if l > 1:\n",
        "                        delta[l] = calculate_hidden_delta(delta[l+1], W[l], z[l])\n",
        "                    # triW^(l) = triW^(l) + delta^(l+1) * transpose(h^(l))\n",
        "                    tri_W[l] += np.dot(delta[l+1][:,np.newaxis], np.transpose(h[l][:,np.newaxis])) \n",
        "                    # trib^(l) = trib^(l) + delta^(l+1)\n",
        "                    tri_b[l] += delta[l+1]\n",
        "        # perform the gradient descent step for the weights in each layer\n",
        "        for l in range(len(nn_structure) - 1, 0, -1):\n",
        "            W[l] += -alpha * (1.0/m * tri_W[l])\n",
        "            b[l] += -alpha * (1.0/m * tri_b[l])\n",
        "        # complete the average cost calculation\n",
        "        avg_cost = 1.0/m * avg_cost\n",
        "        avg_cost_func.append(avg_cost)\n",
        "        cnt += 1\n",
        "    return W, b, avg_cost_func"
      ],
      "execution_count": 0,
      "outputs": []
    },
    {
      "cell_type": "code",
      "metadata": {
        "id": "RcmhbSRs_Sdd",
        "colab_type": "code",
        "colab": {},
        "outputId": "4ff9629f-24ea-4304-d7ba-fb21ff2b59c4"
      },
      "source": [
        "W, b, avg_cost_func = train_nn(nn_structure, X_train, y_v_train)"
      ],
      "execution_count": 0,
      "outputs": [
        {
          "output_type": "stream",
          "text": [
            "Starting gradient descent for 3000 iterations\n",
            "Iteration 0 of 3000\n",
            "Iteration 1000 of 3000\n",
            "Iteration 2000 of 3000\n"
          ],
          "name": "stdout"
        }
      ]
    },
    {
      "cell_type": "code",
      "metadata": {
        "id": "DQ4RwSoT_Sdf",
        "colab_type": "code",
        "colab": {},
        "outputId": "d3647948-3569-4e95-fa77-34be44c3f763"
      },
      "source": [
        "plt.plot(avg_cost_func)\n",
        "plt.ylabel('Average J')\n",
        "plt.xlabel('Iteration number')\n",
        "plt.show()"
      ],
      "execution_count": 0,
      "outputs": [
        {
          "output_type": "display_data",
          "data": {
            "image/png": "[encoded data removed]",
            "text/plain": [
              "<Figure size 432x288 with 1 Axes>"
            ]
          },
          "metadata": {
            "tags": [],
            "needs_background": "light"
          }
        }
      ]
    },
    {
      "cell_type": "code",
      "metadata": {
        "id": "epGsGi_M_Sdh",
        "colab_type": "code",
        "colab": {}
      },
      "source": [
        "def predict_y(W, b, X, n_layers):\n",
        "    m = X.shape[0]\n",
        "    y = np.zeros((m,))\n",
        "    for i in range(m):\n",
        "        h, z = feed_forward(X[i, :], W, b)\n",
        "        y[i] = np.argmax(h[n_layers])\n",
        "    return y"
      ],
      "execution_count": 0,
      "outputs": []
    },
    {
      "cell_type": "code",
      "metadata": {
        "id": "mSuSOCVl_Sdi",
        "colab_type": "code",
        "colab": {},
        "outputId": "d6411c1d-1518-4c57-9ea3-c69c0b193304"
      },
      "source": [
        "from sklearn.metrics import accuracy_score\n",
        "y_pred = predict_y(W, b, X_test, 3)\n",
        "accuracy_score(y_test, y_pred)*100"
      ],
      "execution_count": 0,
      "outputs": [
        {
          "output_type": "execute_result",
          "data": {
            "text/plain": [
              "88.31710709318497"
            ]
          },
          "metadata": {
            "tags": []
          },
          "execution_count": 94
        }
      ]
    },
    {
      "cell_type": "code",
      "metadata": {
        "id": "3N_PY9R1_Sdl",
        "colab_type": "code",
        "colab": {}
      },
      "source": [
        ""
      ],
      "execution_count": 0,
      "outputs": []
    }
  ]
}