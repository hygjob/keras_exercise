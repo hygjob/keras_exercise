{
  "nbformat": 4,
  "nbformat_minor": 0,
  "metadata": {
    "colab": {
      "name": "intro_functional_api.ipynb",
      "version": "0.3.2",
      "provenance": [],
      "collapsed_sections": [],
      "include_colab_link": true
    },
    "kernelspec": {
      "name": "python3",
      "display_name": "Python 3"
    }
  },
  "cells": [
    {
      "cell_type": "markdown",
      "metadata": {
        "id": "view-in-github",
        "colab_type": "text"
      },
      "source": [
        "<a href=\"https://colab.research.google.com/github/hygjob/keras_exercise/blob/master/intro_functional_api.ipynb\" target=\"_parent\"><img src=\"https://colab.research.google.com/assets/colab-badge.svg\" alt=\"Open In Colab\"/></a>"
      ]
    },
    {
      "cell_type": "code",
      "metadata": {
        "id": "wdRgk5R2SpVD",
        "colab_type": "code",
        "colab": {}
      },
      "source": [
        "# Getting started with the Keras functional API"
      ],
      "execution_count": 0,
      "outputs": []
    },
    {
      "cell_type": "code",
      "metadata": {
        "id": "j1E3QcTUSvUr",
        "colab_type": "code",
        "colab": {}
      },
      "source": [
        "# First example: a densely-connected network"
      ],
      "execution_count": 0,
      "outputs": []
    },
    {
      "cell_type": "code",
      "metadata": {
        "id": "N4GyGkVQSypr",
        "colab_type": "code",
        "colab": {
          "base_uri": "https://localhost:8080/",
          "height": 435
        },
        "outputId": "ab664411-bc0d-4ac0-d334-65eb56e9c409"
      },
      "source": [
        "from keras.layers import Input, Dense\n",
        "from keras.models import Model\n",
        "\n",
        "# This returns a tensor\n",
        "inputs = Input(shape=(784,))\n",
        "\n",
        "# a layer instance is callable on a tensor, and returns a tensor\n",
        "x = Dense(64, activation='relu')(inputs)\n",
        "x = Dense(64, activation='relu')(x)\n",
        "predictions = Dense(10, activation='softmax')(x)\n",
        "\n",
        "# This creates a model that includes\n",
        "# the Input layer and three Dense layers\n",
        "model = Model(inputs=inputs, outputs=predictions)\n",
        "model.compile(optimizer='rmsprop',\n",
        "              loss='categorical_crossentropy',\n",
        "              metrics=['accuracy'])\n",
        "model.fit(data, labels)  # starts training"
      ],
      "execution_count": 1,
      "outputs": [
        {
          "output_type": "stream",
          "text": [
            "Using TensorFlow backend.\n",
            "WARNING: Logging before flag parsing goes to stderr.\n",
            "W0830 02:13:39.527831 140033199413120 deprecation_wrapper.py:119] From /usr/local/lib/python3.6/dist-packages/keras/backend/tensorflow_backend.py:66: The name tf.get_default_graph is deprecated. Please use tf.compat.v1.get_default_graph instead.\n",
            "\n",
            "W0830 02:13:39.565962 140033199413120 deprecation_wrapper.py:119] From /usr/local/lib/python3.6/dist-packages/keras/backend/tensorflow_backend.py:541: The name tf.placeholder is deprecated. Please use tf.compat.v1.placeholder instead.\n",
            "\n",
            "W0830 02:13:39.576590 140033199413120 deprecation_wrapper.py:119] From /usr/local/lib/python3.6/dist-packages/keras/backend/tensorflow_backend.py:4432: The name tf.random_uniform is deprecated. Please use tf.random.uniform instead.\n",
            "\n",
            "W0830 02:13:39.624075 140033199413120 deprecation_wrapper.py:119] From /usr/local/lib/python3.6/dist-packages/keras/optimizers.py:793: The name tf.train.Optimizer is deprecated. Please use tf.compat.v1.train.Optimizer instead.\n",
            "\n",
            "W0830 02:13:39.651505 140033199413120 deprecation_wrapper.py:119] From /usr/local/lib/python3.6/dist-packages/keras/backend/tensorflow_backend.py:3576: The name tf.log is deprecated. Please use tf.math.log instead.\n",
            "\n"
          ],
          "name": "stderr"
        },
        {
          "output_type": "error",
          "ename": "NameError",
          "evalue": "ignored",
          "traceback": [
            "\u001b[0;31m---------------------------------------------------------------------------\u001b[0m",
            "\u001b[0;31mNameError\u001b[0m                                 Traceback (most recent call last)",
            "\u001b[0;32m<ipython-input-1-a814b5a756e2>\u001b[0m in \u001b[0;36m<module>\u001b[0;34m()\u001b[0m\n\u001b[1;32m     16\u001b[0m               \u001b[0mloss\u001b[0m\u001b[0;34m=\u001b[0m\u001b[0;34m'categorical_crossentropy'\u001b[0m\u001b[0;34m,\u001b[0m\u001b[0;34m\u001b[0m\u001b[0;34m\u001b[0m\u001b[0m\n\u001b[1;32m     17\u001b[0m               metrics=['accuracy'])\n\u001b[0;32m---> 18\u001b[0;31m \u001b[0mmodel\u001b[0m\u001b[0;34m.\u001b[0m\u001b[0mfit\u001b[0m\u001b[0;34m(\u001b[0m\u001b[0mdata\u001b[0m\u001b[0;34m,\u001b[0m \u001b[0mlabels\u001b[0m\u001b[0;34m)\u001b[0m  \u001b[0;31m# starts training\u001b[0m\u001b[0;34m\u001b[0m\u001b[0;34m\u001b[0m\u001b[0m\n\u001b[0m",
            "\u001b[0;31mNameError\u001b[0m: name 'data' is not defined"
          ]
        }
      ]
    },
    {
      "cell_type": "code",
      "metadata": {
        "id": "5ZJylFhITJ6h",
        "colab_type": "code",
        "colab": {}
      },
      "source": [
        "# All models are callable, just like layers\n",
        "\n",
        "x = Input(shape=(784,))\n",
        "# This works, and returns the 10-way softmax we defined above.\n",
        "y = model(x)"
      ],
      "execution_count": 0,
      "outputs": []
    },
    {
      "cell_type": "code",
      "metadata": {
        "id": "WSGLV0BpTYlV",
        "colab_type": "code",
        "colab": {
          "base_uri": "https://localhost:8080/",
          "height": 52
        },
        "outputId": "ed815063-b012-4170-99ff-5854a4cb2318"
      },
      "source": [
        "print(x)\n",
        "print(y)"
      ],
      "execution_count": 5,
      "outputs": [
        {
          "output_type": "stream",
          "text": [
            "Tensor(\"input_2:0\", shape=(?, 784), dtype=float32)\n",
            "Tensor(\"model_1/dense_3/Softmax:0\", shape=(?, 10), dtype=float32)\n"
          ],
          "name": "stdout"
        }
      ]
    },
    {
      "cell_type": "code",
      "metadata": {
        "id": "h2aBzkP0TZ1d",
        "colab_type": "code",
        "colab": {}
      },
      "source": [
        "# This can allow, for instance, to quickly create models that can process sequences of inputs. \n",
        "# You could turn an image classification model into a video classification model, in just one line."
      ],
      "execution_count": 0,
      "outputs": []
    },
    {
      "cell_type": "code",
      "metadata": {
        "id": "LPmUM9zBT-pM",
        "colab_type": "code",
        "colab": {}
      },
      "source": [
        "from keras.layers import TimeDistributed\n",
        "\n",
        "# Input tensor for sequences of 20 timesteps,\n",
        "# each containing a 784-dimensional vector\n",
        "input_sequences = Input(shape=(20, 784))\n",
        "\n",
        "# This applies our previous model to every timestep in the input sequences.\n",
        "# the output of the previous model was a 10-way softmax,\n",
        "# so the output of the layer below will be a sequence of 20 vectors of size 10.\n",
        "processed_sequences = TimeDistributed(model)(input_sequences)"
      ],
      "execution_count": 0,
      "outputs": []
    },
    {
      "cell_type": "code",
      "metadata": {
        "id": "8jTIQqHFUBuX",
        "colab_type": "code",
        "colab": {
          "base_uri": "https://localhost:8080/",
          "height": 34
        },
        "outputId": "8fe88e12-b684-4aed-e582-7a3f7ccdfc30"
      },
      "source": [
        "print(input_sequences.shape)"
      ],
      "execution_count": 7,
      "outputs": [
        {
          "output_type": "stream",
          "text": [
            "(?, 20, 784)\n"
          ],
          "name": "stdout"
        }
      ]
    },
    {
      "cell_type": "code",
      "metadata": {
        "id": "Nn4mwH91UDtP",
        "colab_type": "code",
        "colab": {
          "base_uri": "https://localhost:8080/",
          "height": 34
        },
        "outputId": "022765da-1dc5-46dc-f44c-0fb51d045d5a"
      },
      "source": [
        "print(processed_sequences)"
      ],
      "execution_count": 8,
      "outputs": [
        {
          "output_type": "stream",
          "text": [
            "Tensor(\"time_distributed_1/Reshape_1:0\", shape=(?, 20, 10), dtype=float32)\n"
          ],
          "name": "stdout"
        }
      ]
    },
    {
      "cell_type": "code",
      "metadata": {
        "id": "UNjCeQlnUIXv",
        "colab_type": "code",
        "colab": {}
      },
      "source": [
        " # Multi-input and multi-output models"
      ],
      "execution_count": 0,
      "outputs": []
    },
    {
      "cell_type": "markdown",
      "metadata": {
        "id": "Pbvrn1rdUiut",
        "colab_type": "text"
      },
      "source": [
        "![함수형 API](https://s3.amazonaws.com/keras.io/img/multi-input-multi-output-graph.png)"
      ]
    },
    {
      "cell_type": "code",
      "metadata": {
        "id": "MvHD4oCYUoX9",
        "colab_type": "code",
        "colab": {}
      },
      "source": [
        ""
      ],
      "execution_count": 0,
      "outputs": []
    },
    {
      "cell_type": "markdown",
      "metadata": {
        "id": "pGBdCtx1Uw3T",
        "colab_type": "text"
      },
      "source": [
        "The main input will receive the headline, as a sequence of integers (each integer encodes a word). The integers will be between 1 and 10,000 (a vocabulary of 10,000 words) and the sequences will be 100 words long."
      ]
    },
    {
      "cell_type": "code",
      "metadata": {
        "id": "Me35O7-zUyKb",
        "colab_type": "code",
        "colab": {}
      },
      "source": [
        "from keras.layers import Input, Embedding, LSTM, Dense\n",
        "from keras.models import Model\n",
        "\n",
        "# Headline input: meant to receive sequences of 100 integers, between 1 and 10000.\n",
        "# Note that we can name any layer by passing it a \"name\" argument.\n",
        "main_input = Input(shape=(100,), dtype='int32', name='main_input')\n",
        "\n",
        "# This embedding layer will encode the input sequence\n",
        "# into a sequence of dense 512-dimensional vectors.\n",
        "x = Embedding(output_dim=512, input_dim=10000, input_length=100)(main_input)\n",
        "\n",
        "# A LSTM will transform the vector sequence into a single vector,\n",
        "# containing information about the entire sequence\n",
        "lstm_out = LSTM(32)(x)"
      ],
      "execution_count": 0,
      "outputs": []
    },
    {
      "cell_type": "code",
      "metadata": {
        "id": "kiLI45x4U55C",
        "colab_type": "code",
        "colab": {}
      },
      "source": [
        "auxiliary_output = Dense(1, activation='sigmoid', name='aux_output')(lstm_out)"
      ],
      "execution_count": 0,
      "outputs": []
    },
    {
      "cell_type": "code",
      "metadata": {
        "id": "N44tfHUfVDLR",
        "colab_type": "code",
        "colab": {}
      },
      "source": [
        "LSTM 출력값과 추가 입력값을 결합해 보자."
      ],
      "execution_count": 0,
      "outputs": []
    },
    {
      "cell_type": "code",
      "metadata": {
        "id": "U_SY3ZCrVLjw",
        "colab_type": "code",
        "colab": {}
      },
      "source": [
        "import keras\n",
        "\n",
        "auxiliary_input = Input(shape=(5,), name='aux_input')\n",
        "x = keras.layers.concatenate([lstm_out, auxiliary_input])\n",
        "\n",
        "# We stack a deep densely-connected network on top\n",
        "x = Dense(64, activation='relu')(x)\n",
        "x = Dense(64, activation='relu')(x)\n",
        "x = Dense(64, activation='relu')(x)\n",
        "\n",
        "# And finally we add the main logistic regression layer\n",
        "main_output = Dense(1, activation='sigmoid', name='main_output')(x)"
      ],
      "execution_count": 0,
      "outputs": []
    },
    {
      "cell_type": "code",
      "metadata": {
        "id": "4_1pkbGYVkBn",
        "colab_type": "code",
        "colab": {}
      },
      "source": [
        "2개의 입력과 2개의 출력을 정의해 보자."
      ],
      "execution_count": 0,
      "outputs": []
    },
    {
      "cell_type": "code",
      "metadata": {
        "id": "wPk5fM1XVoeo",
        "colab_type": "code",
        "colab": {}
      },
      "source": [
        "model = Model(inputs=[main_input, auxiliary_input], outputs=[main_output, auxiliary_output])"
      ],
      "execution_count": 0,
      "outputs": []
    },
    {
      "cell_type": "code",
      "metadata": {
        "id": "Ez-u9JMoV09k",
        "colab_type": "code",
        "colab": {}
      },
      "source": [
        "추가 값에 0.2의 가중치를 적용해 보자. "
      ],
      "execution_count": 0,
      "outputs": []
    },
    {
      "cell_type": "code",
      "metadata": {
        "id": "7bU3en5IV7WJ",
        "colab_type": "code",
        "colab": {
          "base_uri": "https://localhost:8080/",
          "height": 90
        },
        "outputId": "a97fc1a0-5371-4959-b408-a786c9d370ed"
      },
      "source": [
        "model.compile(optimizer='rmsprop', loss='binary_crossentropy',\n",
        "              loss_weights=[1., 0.2])"
      ],
      "execution_count": 14,
      "outputs": [
        {
          "output_type": "stream",
          "text": [
            "W0830 02:31:17.039524 140033199413120 deprecation.py:323] From /usr/local/lib/python3.6/dist-packages/tensorflow/python/ops/nn_impl.py:180: add_dispatch_support.<locals>.wrapper (from tensorflow.python.ops.array_ops) is deprecated and will be removed in a future version.\n",
            "Instructions for updating:\n",
            "Use tf.where in 2.0, which has the same broadcast rule as np.where\n"
          ],
          "name": "stderr"
        }
      ]
    },
    {
      "cell_type": "code",
      "metadata": {
        "id": "xN-EQB_nV8mA",
        "colab_type": "code",
        "colab": {}
      },
      "source": [
        "입력과 출력을 배열형식으로 넣고 학습을 시켜보자"
      ],
      "execution_count": 0,
      "outputs": []
    },
    {
      "cell_type": "code",
      "metadata": {
        "id": "LlXriVXuWFZ4",
        "colab_type": "code",
        "colab": {
          "base_uri": "https://localhost:8080/",
          "height": 186
        },
        "outputId": "5de595e9-7394-4357-829f-4128afa90269"
      },
      "source": [
        "model.fit([headline_data, additional_data], [labels, labels],\n",
        "          epochs=50, batch_size=32)"
      ],
      "execution_count": 15,
      "outputs": [
        {
          "output_type": "error",
          "ename": "NameError",
          "evalue": "ignored",
          "traceback": [
            "\u001b[0;31m---------------------------------------------------------------------------\u001b[0m",
            "\u001b[0;31mNameError\u001b[0m                                 Traceback (most recent call last)",
            "\u001b[0;32m<ipython-input-15-7514b3e18c32>\u001b[0m in \u001b[0;36m<module>\u001b[0;34m()\u001b[0m\n\u001b[0;32m----> 1\u001b[0;31m model.fit([headline_data, additional_data], [labels, labels],\n\u001b[0m\u001b[1;32m      2\u001b[0m           epochs=50, batch_size=32)\n",
            "\u001b[0;31mNameError\u001b[0m: name 'headline_data' is not defined"
          ]
        }
      ]
    },
    {
      "cell_type": "code",
      "metadata": {
        "id": "o9Zud22zWMy2",
        "colab_type": "code",
        "colab": {}
      },
      "source": [
        "입력시 이름을 주어 값을 구별할 수도 있다."
      ],
      "execution_count": 0,
      "outputs": []
    },
    {
      "cell_type": "code",
      "metadata": {
        "id": "Z9uUfDjoWTDn",
        "colab_type": "code",
        "colab": {
          "base_uri": "https://localhost:8080/",
          "height": 239
        },
        "outputId": "ef1446c9-27c3-4d6f-e20a-3680c8d1c349"
      },
      "source": [
        "model.compile(optimizer='rmsprop',\n",
        "              loss={'main_output': 'binary_crossentropy', 'aux_output': 'binary_crossentropy'},\n",
        "              loss_weights={'main_output': 1., 'aux_output': 0.2})\n",
        "\n",
        "# And trained it via:\n",
        "model.fit({'main_input': headline_data, 'aux_input': additional_data},\n",
        "          {'main_output': labels, 'aux_output': labels},\n",
        "          epochs=50, batch_size=32)"
      ],
      "execution_count": 16,
      "outputs": [
        {
          "output_type": "error",
          "ename": "NameError",
          "evalue": "ignored",
          "traceback": [
            "\u001b[0;31m---------------------------------------------------------------------------\u001b[0m",
            "\u001b[0;31mNameError\u001b[0m                                 Traceback (most recent call last)",
            "\u001b[0;32m<ipython-input-16-917dade59cff>\u001b[0m in \u001b[0;36m<module>\u001b[0;34m()\u001b[0m\n\u001b[1;32m      4\u001b[0m \u001b[0;34m\u001b[0m\u001b[0m\n\u001b[1;32m      5\u001b[0m \u001b[0;31m# And trained it via:\u001b[0m\u001b[0;34m\u001b[0m\u001b[0;34m\u001b[0m\u001b[0;34m\u001b[0m\u001b[0m\n\u001b[0;32m----> 6\u001b[0;31m model.fit({'main_input': headline_data, 'aux_input': additional_data},\n\u001b[0m\u001b[1;32m      7\u001b[0m           \u001b[0;34m{\u001b[0m\u001b[0;34m'main_output'\u001b[0m\u001b[0;34m:\u001b[0m \u001b[0mlabels\u001b[0m\u001b[0;34m,\u001b[0m \u001b[0;34m'aux_output'\u001b[0m\u001b[0;34m:\u001b[0m \u001b[0mlabels\u001b[0m\u001b[0;34m}\u001b[0m\u001b[0;34m,\u001b[0m\u001b[0;34m\u001b[0m\u001b[0;34m\u001b[0m\u001b[0m\n\u001b[1;32m      8\u001b[0m           epochs=50, batch_size=32)\n",
            "\u001b[0;31mNameError\u001b[0m: name 'headline_data' is not defined"
          ]
        }
      ]
    },
    {
      "cell_type": "code",
      "metadata": {
        "id": "0Vkl90QvXRAM",
        "colab_type": "code",
        "colab": {}
      },
      "source": [
        ""
      ],
      "execution_count": 0,
      "outputs": []
    }
  ]
}